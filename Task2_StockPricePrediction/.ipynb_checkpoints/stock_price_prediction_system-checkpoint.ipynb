{
 "cells": [
  {
   "cell_type": "code",
   "execution_count": 1,
   "metadata": {
    "colab": {
     "base_uri": "https://localhost:8080/"
    },
    "id": "T0iRA0F5thSy",
    "outputId": "0febf314-9c64-4968-db74-f045f3a79277"
   },
   "outputs": [
    {
     "name": "stdout",
     "output_type": "stream",
     "text": [
      "Requirement already satisfied: tensorflow in c:\\users\\pmls\\anaconda3\\envs\\flak_env\\lib\\site-packages (2.17.0)\n",
      "Requirement already satisfied: tensorflow-intel==2.17.0 in c:\\users\\pmls\\anaconda3\\envs\\flak_env\\lib\\site-packages (from tensorflow) (2.17.0)\n",
      "Requirement already satisfied: absl-py>=1.0.0 in c:\\users\\pmls\\anaconda3\\envs\\flak_env\\lib\\site-packages (from tensorflow-intel==2.17.0->tensorflow) (2.1.0)\n",
      "Requirement already satisfied: astunparse>=1.6.0 in c:\\users\\pmls\\anaconda3\\envs\\flak_env\\lib\\site-packages (from tensorflow-intel==2.17.0->tensorflow) (1.6.3)\n",
      "Requirement already satisfied: flatbuffers>=24.3.25 in c:\\users\\pmls\\anaconda3\\envs\\flak_env\\lib\\site-packages (from tensorflow-intel==2.17.0->tensorflow) (24.3.25)\n",
      "Requirement already satisfied: gast!=0.5.0,!=0.5.1,!=0.5.2,>=0.2.1 in c:\\users\\pmls\\anaconda3\\envs\\flak_env\\lib\\site-packages (from tensorflow-intel==2.17.0->tensorflow) (0.6.0)\n",
      "Requirement already satisfied: google-pasta>=0.1.1 in c:\\users\\pmls\\anaconda3\\envs\\flak_env\\lib\\site-packages (from tensorflow-intel==2.17.0->tensorflow) (0.2.0)\n",
      "Requirement already satisfied: h5py>=3.10.0 in c:\\users\\pmls\\anaconda3\\envs\\flak_env\\lib\\site-packages (from tensorflow-intel==2.17.0->tensorflow) (3.11.0)\n",
      "Requirement already satisfied: libclang>=13.0.0 in c:\\users\\pmls\\anaconda3\\envs\\flak_env\\lib\\site-packages (from tensorflow-intel==2.17.0->tensorflow) (18.1.1)\n",
      "Requirement already satisfied: ml-dtypes<0.5.0,>=0.3.1 in c:\\users\\pmls\\anaconda3\\envs\\flak_env\\lib\\site-packages (from tensorflow-intel==2.17.0->tensorflow) (0.4.0)\n",
      "Requirement already satisfied: opt-einsum>=2.3.2 in c:\\users\\pmls\\anaconda3\\envs\\flak_env\\lib\\site-packages (from tensorflow-intel==2.17.0->tensorflow) (3.3.0)\n",
      "Requirement already satisfied: packaging in c:\\users\\pmls\\anaconda3\\envs\\flak_env\\lib\\site-packages (from tensorflow-intel==2.17.0->tensorflow) (24.1)\n",
      "Requirement already satisfied: protobuf!=4.21.0,!=4.21.1,!=4.21.2,!=4.21.3,!=4.21.4,!=4.21.5,<5.0.0dev,>=3.20.3 in c:\\users\\pmls\\anaconda3\\envs\\flak_env\\lib\\site-packages (from tensorflow-intel==2.17.0->tensorflow) (4.25.4)\n",
      "Requirement already satisfied: requests<3,>=2.21.0 in c:\\users\\pmls\\anaconda3\\envs\\flak_env\\lib\\site-packages (from tensorflow-intel==2.17.0->tensorflow) (2.32.3)\n",
      "Requirement already satisfied: setuptools in c:\\users\\pmls\\anaconda3\\envs\\flak_env\\lib\\site-packages (from tensorflow-intel==2.17.0->tensorflow) (72.1.0)\n",
      "Requirement already satisfied: six>=1.12.0 in c:\\users\\pmls\\anaconda3\\envs\\flak_env\\lib\\site-packages (from tensorflow-intel==2.17.0->tensorflow) (1.16.0)\n",
      "Requirement already satisfied: termcolor>=1.1.0 in c:\\users\\pmls\\anaconda3\\envs\\flak_env\\lib\\site-packages (from tensorflow-intel==2.17.0->tensorflow) (2.4.0)\n",
      "Requirement already satisfied: typing-extensions>=3.6.6 in c:\\users\\pmls\\anaconda3\\envs\\flak_env\\lib\\site-packages (from tensorflow-intel==2.17.0->tensorflow) (4.11.0)\n",
      "Requirement already satisfied: wrapt>=1.11.0 in c:\\users\\pmls\\anaconda3\\envs\\flak_env\\lib\\site-packages (from tensorflow-intel==2.17.0->tensorflow) (1.16.0)\n",
      "Requirement already satisfied: grpcio<2.0,>=1.24.3 in c:\\users\\pmls\\anaconda3\\envs\\flak_env\\lib\\site-packages (from tensorflow-intel==2.17.0->tensorflow) (1.65.5)\n",
      "Requirement already satisfied: tensorboard<2.18,>=2.17 in c:\\users\\pmls\\anaconda3\\envs\\flak_env\\lib\\site-packages (from tensorflow-intel==2.17.0->tensorflow) (2.17.1)\n",
      "Requirement already satisfied: keras>=3.2.0 in c:\\users\\pmls\\anaconda3\\envs\\flak_env\\lib\\site-packages (from tensorflow-intel==2.17.0->tensorflow) (3.5.0)\n",
      "Requirement already satisfied: tensorflow-io-gcs-filesystem>=0.23.1 in c:\\users\\pmls\\anaconda3\\envs\\flak_env\\lib\\site-packages (from tensorflow-intel==2.17.0->tensorflow) (0.31.0)\n",
      "Requirement already satisfied: numpy<2.0.0,>=1.23.5 in c:\\users\\pmls\\anaconda3\\envs\\flak_env\\lib\\site-packages (from tensorflow-intel==2.17.0->tensorflow) (1.26.4)\n",
      "Requirement already satisfied: wheel<1.0,>=0.23.0 in c:\\users\\pmls\\anaconda3\\envs\\flak_env\\lib\\site-packages (from astunparse>=1.6.0->tensorflow-intel==2.17.0->tensorflow) (0.43.0)\n",
      "Requirement already satisfied: rich in c:\\users\\pmls\\anaconda3\\envs\\flak_env\\lib\\site-packages (from keras>=3.2.0->tensorflow-intel==2.17.0->tensorflow) (13.7.1)\n",
      "Requirement already satisfied: namex in c:\\users\\pmls\\anaconda3\\envs\\flak_env\\lib\\site-packages (from keras>=3.2.0->tensorflow-intel==2.17.0->tensorflow) (0.0.8)\n",
      "Requirement already satisfied: optree in c:\\users\\pmls\\anaconda3\\envs\\flak_env\\lib\\site-packages (from keras>=3.2.0->tensorflow-intel==2.17.0->tensorflow) (0.12.1)\n",
      "Requirement already satisfied: charset-normalizer<4,>=2 in c:\\users\\pmls\\anaconda3\\envs\\flak_env\\lib\\site-packages (from requests<3,>=2.21.0->tensorflow-intel==2.17.0->tensorflow) (3.3.2)\n",
      "Requirement already satisfied: idna<4,>=2.5 in c:\\users\\pmls\\anaconda3\\envs\\flak_env\\lib\\site-packages (from requests<3,>=2.21.0->tensorflow-intel==2.17.0->tensorflow) (3.7)\n",
      "Requirement already satisfied: urllib3<3,>=1.21.1 in c:\\users\\pmls\\anaconda3\\envs\\flak_env\\lib\\site-packages (from requests<3,>=2.21.0->tensorflow-intel==2.17.0->tensorflow) (2.2.2)\n",
      "Requirement already satisfied: certifi>=2017.4.17 in c:\\users\\pmls\\anaconda3\\envs\\flak_env\\lib\\site-packages (from requests<3,>=2.21.0->tensorflow-intel==2.17.0->tensorflow) (2024.7.4)\n",
      "Requirement already satisfied: markdown>=2.6.8 in c:\\users\\pmls\\anaconda3\\envs\\flak_env\\lib\\site-packages (from tensorboard<2.18,>=2.17->tensorflow-intel==2.17.0->tensorflow) (3.7)\n",
      "Requirement already satisfied: tensorboard-data-server<0.8.0,>=0.7.0 in c:\\users\\pmls\\anaconda3\\envs\\flak_env\\lib\\site-packages (from tensorboard<2.18,>=2.17->tensorflow-intel==2.17.0->tensorflow) (0.7.2)\n",
      "Requirement already satisfied: werkzeug>=1.0.1 in c:\\users\\pmls\\anaconda3\\envs\\flak_env\\lib\\site-packages (from tensorboard<2.18,>=2.17->tensorflow-intel==2.17.0->tensorflow) (3.0.3)\n",
      "Requirement already satisfied: MarkupSafe>=2.1.1 in c:\\users\\pmls\\anaconda3\\envs\\flak_env\\lib\\site-packages (from werkzeug>=1.0.1->tensorboard<2.18,>=2.17->tensorflow-intel==2.17.0->tensorflow) (2.1.3)\n",
      "Requirement already satisfied: markdown-it-py>=2.2.0 in c:\\users\\pmls\\anaconda3\\envs\\flak_env\\lib\\site-packages (from rich->keras>=3.2.0->tensorflow-intel==2.17.0->tensorflow) (3.0.0)\n",
      "Requirement already satisfied: pygments<3.0.0,>=2.13.0 in c:\\users\\pmls\\anaconda3\\envs\\flak_env\\lib\\site-packages (from rich->keras>=3.2.0->tensorflow-intel==2.17.0->tensorflow) (2.15.1)\n",
      "Requirement already satisfied: mdurl~=0.1 in c:\\users\\pmls\\anaconda3\\envs\\flak_env\\lib\\site-packages (from markdown-it-py>=2.2.0->rich->keras>=3.2.0->tensorflow-intel==2.17.0->tensorflow) (0.1.2)\n",
      "Requirement already satisfied: alpha_vantage in c:\\users\\pmls\\anaconda3\\envs\\flak_env\\lib\\site-packages (3.0.0)\n",
      "Requirement already satisfied: aiohttp in c:\\users\\pmls\\anaconda3\\envs\\flak_env\\lib\\site-packages (from alpha_vantage) (3.10.5)\n",
      "Requirement already satisfied: requests in c:\\users\\pmls\\anaconda3\\envs\\flak_env\\lib\\site-packages (from alpha_vantage) (2.32.3)\n",
      "Requirement already satisfied: aiohappyeyeballs>=2.3.0 in c:\\users\\pmls\\anaconda3\\envs\\flak_env\\lib\\site-packages (from aiohttp->alpha_vantage) (2.4.0)\n",
      "Requirement already satisfied: aiosignal>=1.1.2 in c:\\users\\pmls\\anaconda3\\envs\\flak_env\\lib\\site-packages (from aiohttp->alpha_vantage) (1.3.1)\n",
      "Requirement already satisfied: attrs>=17.3.0 in c:\\users\\pmls\\anaconda3\\envs\\flak_env\\lib\\site-packages (from aiohttp->alpha_vantage) (23.1.0)\n",
      "Requirement already satisfied: frozenlist>=1.1.1 in c:\\users\\pmls\\anaconda3\\envs\\flak_env\\lib\\site-packages (from aiohttp->alpha_vantage) (1.4.1)\n",
      "Requirement already satisfied: multidict<7.0,>=4.5 in c:\\users\\pmls\\anaconda3\\envs\\flak_env\\lib\\site-packages (from aiohttp->alpha_vantage) (6.0.5)\n",
      "Requirement already satisfied: yarl<2.0,>=1.0 in c:\\users\\pmls\\anaconda3\\envs\\flak_env\\lib\\site-packages (from aiohttp->alpha_vantage) (1.9.4)\n",
      "Requirement already satisfied: charset-normalizer<4,>=2 in c:\\users\\pmls\\anaconda3\\envs\\flak_env\\lib\\site-packages (from requests->alpha_vantage) (3.3.2)\n",
      "Requirement already satisfied: idna<4,>=2.5 in c:\\users\\pmls\\anaconda3\\envs\\flak_env\\lib\\site-packages (from requests->alpha_vantage) (3.7)\n",
      "Requirement already satisfied: urllib3<3,>=1.21.1 in c:\\users\\pmls\\anaconda3\\envs\\flak_env\\lib\\site-packages (from requests->alpha_vantage) (2.2.2)\n",
      "Requirement already satisfied: certifi>=2017.4.17 in c:\\users\\pmls\\anaconda3\\envs\\flak_env\\lib\\site-packages (from requests->alpha_vantage) (2024.7.4)\n"
     ]
    }
   ],
   "source": [
    "# import the libraries\n",
    "!pip install tensorflow\n",
    "import pandas as pd\n",
    "import matplotlib.pyplot as plt\n",
    "!pip install alpha_vantage\n",
    "from alpha_vantage.timeseries import TimeSeries\n"
   ]
  },
  {
   "cell_type": "code",
   "execution_count": 2,
   "metadata": {
    "id": "-l6RrH8JucQt"
   },
   "outputs": [],
   "source": [
    "# store the Api key\n",
    "key=open('APi_key.txt').read()"
   ]
  },
  {
   "cell_type": "code",
   "execution_count": 3,
   "metadata": {
    "id": "auB8myZauqgU"
   },
   "outputs": [],
   "source": [
    "# create thr time series object and callthe api\n",
    "ts=TimeSeries(key,output_format='pandas')\n",
    "data,meta_data=ts.get_intraday('TSLA',interval='1min',outputsize='full')"
   ]
  },
  {
   "cell_type": "code",
   "execution_count": 4,
   "metadata": {
    "colab": {
     "base_uri": "https://localhost:8080/"
    },
    "id": "I53qCiOUvlL-",
    "outputId": "014cb2d2-81ab-4574-d37d-006f262a98e1"
   },
   "outputs": [
    {
     "data": {
      "text/plain": [
       "{'1. Information': 'Intraday (1min) open, high, low, close prices and volume',\n",
       " '2. Symbol': 'TSLA',\n",
       " '3. Last Refreshed': '2024-08-19 19:59:00',\n",
       " '4. Interval': '1min',\n",
       " '5. Output Size': 'Full size',\n",
       " '6. Time Zone': 'US/Eastern'}"
      ]
     },
     "execution_count": 4,
     "metadata": {},
     "output_type": "execute_result"
    }
   ],
   "source": [
    "#examine the date\n",
    "meta_data"
   ]
  },
  {
   "cell_type": "code",
   "execution_count": 5,
   "metadata": {
    "colab": {
     "base_uri": "https://localhost:8080/"
    },
    "id": "khWG7BDfPq1Z",
    "outputId": "4912ec36-ed4d-45da-a2de-0849b4d1aa71"
   },
   "outputs": [
    {
     "data": {
      "text/plain": [
       "(20160, 5)"
      ]
     },
     "execution_count": 5,
     "metadata": {},
     "output_type": "execute_result"
    }
   ],
   "source": [
    "data.shape\n",
    "\n"
   ]
  },
  {
   "cell_type": "code",
   "execution_count": 6,
   "metadata": {
    "colab": {
     "base_uri": "https://localhost:8080/",
     "height": 237
    },
    "id": "aroKBS5EwNzl",
    "outputId": "01b2079f-c9a7-43f5-8794-3fe2295d0a0a"
   },
   "outputs": [
    {
     "data": {
      "text/html": [
       "<div>\n",
       "<style scoped>\n",
       "    .dataframe tbody tr th:only-of-type {\n",
       "        vertical-align: middle;\n",
       "    }\n",
       "\n",
       "    .dataframe tbody tr th {\n",
       "        vertical-align: top;\n",
       "    }\n",
       "\n",
       "    .dataframe thead th {\n",
       "        text-align: right;\n",
       "    }\n",
       "</style>\n",
       "<table border=\"1\" class=\"dataframe\">\n",
       "  <thead>\n",
       "    <tr style=\"text-align: right;\">\n",
       "      <th></th>\n",
       "      <th>1. open</th>\n",
       "      <th>2. high</th>\n",
       "      <th>3. low</th>\n",
       "      <th>4. close</th>\n",
       "      <th>5. volume</th>\n",
       "    </tr>\n",
       "    <tr>\n",
       "      <th>date</th>\n",
       "      <th></th>\n",
       "      <th></th>\n",
       "      <th></th>\n",
       "      <th></th>\n",
       "      <th></th>\n",
       "    </tr>\n",
       "  </thead>\n",
       "  <tbody>\n",
       "    <tr>\n",
       "      <th>2024-08-19 19:59:00</th>\n",
       "      <td>222.12</td>\n",
       "      <td>222.120</td>\n",
       "      <td>222.00</td>\n",
       "      <td>222.00</td>\n",
       "      <td>5153.0</td>\n",
       "    </tr>\n",
       "    <tr>\n",
       "      <th>2024-08-19 19:58:00</th>\n",
       "      <td>222.10</td>\n",
       "      <td>222.122</td>\n",
       "      <td>222.09</td>\n",
       "      <td>222.11</td>\n",
       "      <td>2116.0</td>\n",
       "    </tr>\n",
       "    <tr>\n",
       "      <th>2024-08-19 19:57:00</th>\n",
       "      <td>222.14</td>\n",
       "      <td>222.140</td>\n",
       "      <td>222.09</td>\n",
       "      <td>222.10</td>\n",
       "      <td>1954.0</td>\n",
       "    </tr>\n",
       "    <tr>\n",
       "      <th>2024-08-19 19:56:00</th>\n",
       "      <td>222.18</td>\n",
       "      <td>222.180</td>\n",
       "      <td>222.08</td>\n",
       "      <td>222.10</td>\n",
       "      <td>417.0</td>\n",
       "    </tr>\n",
       "    <tr>\n",
       "      <th>2024-08-19 19:55:00</th>\n",
       "      <td>222.12</td>\n",
       "      <td>222.190</td>\n",
       "      <td>222.00</td>\n",
       "      <td>222.08</td>\n",
       "      <td>9334.0</td>\n",
       "    </tr>\n",
       "  </tbody>\n",
       "</table>\n",
       "</div>"
      ],
      "text/plain": [
       "                     1. open  2. high  3. low  4. close  5. volume\n",
       "date                                                              \n",
       "2024-08-19 19:59:00   222.12  222.120  222.00    222.00     5153.0\n",
       "2024-08-19 19:58:00   222.10  222.122  222.09    222.11     2116.0\n",
       "2024-08-19 19:57:00   222.14  222.140  222.09    222.10     1954.0\n",
       "2024-08-19 19:56:00   222.18  222.180  222.08    222.10      417.0\n",
       "2024-08-19 19:55:00   222.12  222.190  222.00    222.08     9334.0"
      ]
     },
     "execution_count": 6,
     "metadata": {},
     "output_type": "execute_result"
    }
   ],
   "source": [
    "data.head()\n"
   ]
  },
  {
   "cell_type": "code",
   "execution_count": 7,
   "metadata": {
    "colab": {
     "base_uri": "https://localhost:8080/"
    },
    "id": "VnH9E8iBwWQx",
    "outputId": "ca3e1cac-876a-4d99-c38c-c726335ac942"
   },
   "outputs": [
    {
     "name": "stdout",
     "output_type": "stream",
     "text": [
      "<class 'pandas.core.frame.DataFrame'>\n",
      "DatetimeIndex: 20160 entries, 2024-08-19 19:59:00 to 2024-07-22 04:00:00\n",
      "Data columns (total 5 columns):\n",
      " #   Column     Non-Null Count  Dtype  \n",
      "---  ------     --------------  -----  \n",
      " 0   1. open    20160 non-null  float64\n",
      " 1   2. high    20160 non-null  float64\n",
      " 2   3. low     20160 non-null  float64\n",
      " 3   4. close   20160 non-null  float64\n",
      " 4   5. volume  20160 non-null  float64\n",
      "dtypes: float64(5)\n",
      "memory usage: 945.0 KB\n"
     ]
    }
   ],
   "source": [
    "data.info()"
   ]
  },
  {
   "cell_type": "code",
   "execution_count": 8,
   "metadata": {
    "colab": {
     "base_uri": "https://localhost:8080/",
     "height": 447
    },
    "id": "_Fu_7AkYw5wP",
    "outputId": "843de0fd-2a31-4235-ed00-5e402069dd1c"
   },
   "outputs": [
    {
     "data": {
      "text/plain": [
       "[<matplotlib.lines.Line2D at 0x25067ac1c90>]"
      ]
     },
     "execution_count": 8,
     "metadata": {},
     "output_type": "execute_result"
    },
    {
     "data": {
      "image/png": "[encoded data removed]",
      "text/plain": [
       "<Figure size 640x480 with 1 Axes>"
      ]
     },
     "metadata": {},
     "output_type": "display_data"
    }
   ],
   "source": [
    "plt.plot(data['4. close'])"
   ]
  },
  {
   "cell_type": "code",
   "execution_count": 9,
   "metadata": {
    "id": "mPzFIcqwxNqV"
   },
   "outputs": [],
   "source": [
    "#rename coloumns and add seperate colomn for date and time\n",
    "columns=['open','high','low','close','volume']\n",
    "data.columns=columns"
   ]
  },
  {
   "cell_type": "code",
   "execution_count": 10,
   "metadata": {
    "colab": {
     "base_uri": "https://localhost:8080/",
     "height": 237
    },
    "id": "tZOq0-NE3MhW",
    "outputId": "295b803e-96bf-4c99-e17e-be4be266f42d"
   },
   "outputs": [
    {
     "data": {
      "text/html": [
       "<div>\n",
       "<style scoped>\n",
       "    .dataframe tbody tr th:only-of-type {\n",
       "        vertical-align: middle;\n",
       "    }\n",
       "\n",
       "    .dataframe tbody tr th {\n",
       "        vertical-align: top;\n",
       "    }\n",
       "\n",
       "    .dataframe thead th {\n",
       "        text-align: right;\n",
       "    }\n",
       "</style>\n",
       "<table border=\"1\" class=\"dataframe\">\n",
       "  <thead>\n",
       "    <tr style=\"text-align: right;\">\n",
       "      <th></th>\n",
       "      <th>open</th>\n",
       "      <th>high</th>\n",
       "      <th>low</th>\n",
       "      <th>close</th>\n",
       "      <th>volume</th>\n",
       "      <th>TradeData</th>\n",
       "      <th>Time</th>\n",
       "    </tr>\n",
       "    <tr>\n",
       "      <th>date</th>\n",
       "      <th></th>\n",
       "      <th></th>\n",
       "      <th></th>\n",
       "      <th></th>\n",
       "      <th></th>\n",
       "      <th></th>\n",
       "      <th></th>\n",
       "    </tr>\n",
       "  </thead>\n",
       "  <tbody>\n",
       "    <tr>\n",
       "      <th>2024-08-19 19:59:00</th>\n",
       "      <td>222.12</td>\n",
       "      <td>222.120</td>\n",
       "      <td>222.00</td>\n",
       "      <td>222.00</td>\n",
       "      <td>5153.0</td>\n",
       "      <td>2024-08-19</td>\n",
       "      <td>19:59:00</td>\n",
       "    </tr>\n",
       "    <tr>\n",
       "      <th>2024-08-19 19:58:00</th>\n",
       "      <td>222.10</td>\n",
       "      <td>222.122</td>\n",
       "      <td>222.09</td>\n",
       "      <td>222.11</td>\n",
       "      <td>2116.0</td>\n",
       "      <td>2024-08-19</td>\n",
       "      <td>19:58:00</td>\n",
       "    </tr>\n",
       "    <tr>\n",
       "      <th>2024-08-19 19:57:00</th>\n",
       "      <td>222.14</td>\n",
       "      <td>222.140</td>\n",
       "      <td>222.09</td>\n",
       "      <td>222.10</td>\n",
       "      <td>1954.0</td>\n",
       "      <td>2024-08-19</td>\n",
       "      <td>19:57:00</td>\n",
       "    </tr>\n",
       "    <tr>\n",
       "      <th>2024-08-19 19:56:00</th>\n",
       "      <td>222.18</td>\n",
       "      <td>222.180</td>\n",
       "      <td>222.08</td>\n",
       "      <td>222.10</td>\n",
       "      <td>417.0</td>\n",
       "      <td>2024-08-19</td>\n",
       "      <td>19:56:00</td>\n",
       "    </tr>\n",
       "    <tr>\n",
       "      <th>2024-08-19 19:55:00</th>\n",
       "      <td>222.12</td>\n",
       "      <td>222.190</td>\n",
       "      <td>222.00</td>\n",
       "      <td>222.08</td>\n",
       "      <td>9334.0</td>\n",
       "      <td>2024-08-19</td>\n",
       "      <td>19:55:00</td>\n",
       "    </tr>\n",
       "  </tbody>\n",
       "</table>\n",
       "</div>"
      ],
      "text/plain": [
       "                       open     high     low   close  volume   TradeData  \\\n",
       "date                                                                       \n",
       "2024-08-19 19:59:00  222.12  222.120  222.00  222.00  5153.0  2024-08-19   \n",
       "2024-08-19 19:58:00  222.10  222.122  222.09  222.11  2116.0  2024-08-19   \n",
       "2024-08-19 19:57:00  222.14  222.140  222.09  222.10  1954.0  2024-08-19   \n",
       "2024-08-19 19:56:00  222.18  222.180  222.08  222.10   417.0  2024-08-19   \n",
       "2024-08-19 19:55:00  222.12  222.190  222.00  222.08  9334.0  2024-08-19   \n",
       "\n",
       "                         Time  \n",
       "date                           \n",
       "2024-08-19 19:59:00  19:59:00  \n",
       "2024-08-19 19:58:00  19:58:00  \n",
       "2024-08-19 19:57:00  19:57:00  \n",
       "2024-08-19 19:56:00  19:56:00  \n",
       "2024-08-19 19:55:00  19:55:00  "
      ]
     },
     "execution_count": 10,
     "metadata": {},
     "output_type": "execute_result"
    }
   ],
   "source": [
    "data['TradeData'] = data.index.date\n",
    "data['Time'] = data.index.time\n",
    "data.head()"
   ]
  },
  {
   "cell_type": "code",
   "execution_count": 11,
   "metadata": {
    "colab": {
     "base_uri": "https://localhost:8080/",
     "height": 455
    },
    "id": "fGgvRJPb4kYb",
    "outputId": "28b8580c-f2af-4019-c8eb-435095689b85"
   },
   "outputs": [
    {
     "data": {
      "text/html": [
       "<div>\n",
       "<style scoped>\n",
       "    .dataframe tbody tr th:only-of-type {\n",
       "        vertical-align: middle;\n",
       "    }\n",
       "\n",
       "    .dataframe tbody tr th {\n",
       "        vertical-align: top;\n",
       "    }\n",
       "\n",
       "    .dataframe thead th {\n",
       "        text-align: right;\n",
       "    }\n",
       "</style>\n",
       "<table border=\"1\" class=\"dataframe\">\n",
       "  <thead>\n",
       "    <tr style=\"text-align: right;\">\n",
       "      <th></th>\n",
       "      <th>open</th>\n",
       "      <th>high</th>\n",
       "      <th>low</th>\n",
       "      <th>close</th>\n",
       "      <th>volume</th>\n",
       "      <th>TradeData</th>\n",
       "      <th>Time</th>\n",
       "    </tr>\n",
       "    <tr>\n",
       "      <th>date</th>\n",
       "      <th></th>\n",
       "      <th></th>\n",
       "      <th></th>\n",
       "      <th></th>\n",
       "      <th></th>\n",
       "      <th></th>\n",
       "      <th></th>\n",
       "    </tr>\n",
       "  </thead>\n",
       "  <tbody>\n",
       "    <tr>\n",
       "      <th>2024-08-16 19:59:00</th>\n",
       "      <td>216.31</td>\n",
       "      <td>216.35</td>\n",
       "      <td>216.310</td>\n",
       "      <td>216.324</td>\n",
       "      <td>4403.0</td>\n",
       "      <td>2024-08-16</td>\n",
       "      <td>19:59:00</td>\n",
       "    </tr>\n",
       "    <tr>\n",
       "      <th>2024-08-16 19:58:00</th>\n",
       "      <td>216.37</td>\n",
       "      <td>216.38</td>\n",
       "      <td>216.310</td>\n",
       "      <td>216.330</td>\n",
       "      <td>2005.0</td>\n",
       "      <td>2024-08-16</td>\n",
       "      <td>19:58:00</td>\n",
       "    </tr>\n",
       "    <tr>\n",
       "      <th>2024-08-16 19:57:00</th>\n",
       "      <td>216.33</td>\n",
       "      <td>216.38</td>\n",
       "      <td>216.290</td>\n",
       "      <td>216.380</td>\n",
       "      <td>2797.0</td>\n",
       "      <td>2024-08-16</td>\n",
       "      <td>19:57:00</td>\n",
       "    </tr>\n",
       "    <tr>\n",
       "      <th>2024-08-16 19:56:00</th>\n",
       "      <td>216.30</td>\n",
       "      <td>216.32</td>\n",
       "      <td>216.270</td>\n",
       "      <td>216.320</td>\n",
       "      <td>2326.0</td>\n",
       "      <td>2024-08-16</td>\n",
       "      <td>19:56:00</td>\n",
       "    </tr>\n",
       "    <tr>\n",
       "      <th>2024-08-16 19:55:00</th>\n",
       "      <td>216.30</td>\n",
       "      <td>216.31</td>\n",
       "      <td>216.295</td>\n",
       "      <td>216.300</td>\n",
       "      <td>1937.0</td>\n",
       "      <td>2024-08-16</td>\n",
       "      <td>19:55:00</td>\n",
       "    </tr>\n",
       "    <tr>\n",
       "      <th>...</th>\n",
       "      <td>...</td>\n",
       "      <td>...</td>\n",
       "      <td>...</td>\n",
       "      <td>...</td>\n",
       "      <td>...</td>\n",
       "      <td>...</td>\n",
       "      <td>...</td>\n",
       "    </tr>\n",
       "    <tr>\n",
       "      <th>2024-08-16 04:04:00</th>\n",
       "      <td>215.40</td>\n",
       "      <td>215.66</td>\n",
       "      <td>215.400</td>\n",
       "      <td>215.660</td>\n",
       "      <td>8889.0</td>\n",
       "      <td>2024-08-16</td>\n",
       "      <td>04:04:00</td>\n",
       "    </tr>\n",
       "    <tr>\n",
       "      <th>2024-08-16 04:03:00</th>\n",
       "      <td>215.04</td>\n",
       "      <td>215.47</td>\n",
       "      <td>215.000</td>\n",
       "      <td>215.400</td>\n",
       "      <td>8278.0</td>\n",
       "      <td>2024-08-16</td>\n",
       "      <td>04:03:00</td>\n",
       "    </tr>\n",
       "    <tr>\n",
       "      <th>2024-08-16 04:02:00</th>\n",
       "      <td>214.94</td>\n",
       "      <td>215.18</td>\n",
       "      <td>214.920</td>\n",
       "      <td>215.000</td>\n",
       "      <td>4639.0</td>\n",
       "      <td>2024-08-16</td>\n",
       "      <td>04:02:00</td>\n",
       "    </tr>\n",
       "    <tr>\n",
       "      <th>2024-08-16 04:01:00</th>\n",
       "      <td>214.99</td>\n",
       "      <td>215.20</td>\n",
       "      <td>214.730</td>\n",
       "      <td>214.990</td>\n",
       "      <td>7825.0</td>\n",
       "      <td>2024-08-16</td>\n",
       "      <td>04:01:00</td>\n",
       "    </tr>\n",
       "    <tr>\n",
       "      <th>2024-08-16 04:00:00</th>\n",
       "      <td>214.66</td>\n",
       "      <td>215.20</td>\n",
       "      <td>214.160</td>\n",
       "      <td>215.010</td>\n",
       "      <td>11639.0</td>\n",
       "      <td>2024-08-16</td>\n",
       "      <td>04:00:00</td>\n",
       "    </tr>\n",
       "  </tbody>\n",
       "</table>\n",
       "<p>960 rows × 7 columns</p>\n",
       "</div>"
      ],
      "text/plain": [
       "                       open    high      low    close   volume   TradeData  \\\n",
       "date                                                                         \n",
       "2024-08-16 19:59:00  216.31  216.35  216.310  216.324   4403.0  2024-08-16   \n",
       "2024-08-16 19:58:00  216.37  216.38  216.310  216.330   2005.0  2024-08-16   \n",
       "2024-08-16 19:57:00  216.33  216.38  216.290  216.380   2797.0  2024-08-16   \n",
       "2024-08-16 19:56:00  216.30  216.32  216.270  216.320   2326.0  2024-08-16   \n",
       "2024-08-16 19:55:00  216.30  216.31  216.295  216.300   1937.0  2024-08-16   \n",
       "...                     ...     ...      ...      ...      ...         ...   \n",
       "2024-08-16 04:04:00  215.40  215.66  215.400  215.660   8889.0  2024-08-16   \n",
       "2024-08-16 04:03:00  215.04  215.47  215.000  215.400   8278.0  2024-08-16   \n",
       "2024-08-16 04:02:00  214.94  215.18  214.920  215.000   4639.0  2024-08-16   \n",
       "2024-08-16 04:01:00  214.99  215.20  214.730  214.990   7825.0  2024-08-16   \n",
       "2024-08-16 04:00:00  214.66  215.20  214.160  215.010  11639.0  2024-08-16   \n",
       "\n",
       "                         Time  \n",
       "date                           \n",
       "2024-08-16 19:59:00  19:59:00  \n",
       "2024-08-16 19:58:00  19:58:00  \n",
       "2024-08-16 19:57:00  19:57:00  \n",
       "2024-08-16 19:56:00  19:56:00  \n",
       "2024-08-16 19:55:00  19:55:00  \n",
       "...                       ...  \n",
       "2024-08-16 04:04:00  04:04:00  \n",
       "2024-08-16 04:03:00  04:03:00  \n",
       "2024-08-16 04:02:00  04:02:00  \n",
       "2024-08-16 04:01:00  04:01:00  \n",
       "2024-08-16 04:00:00  04:00:00  \n",
       "\n",
       "[960 rows x 7 columns]"
      ]
     },
     "execution_count": 11,
     "metadata": {},
     "output_type": "execute_result"
    }
   ],
   "source": [
    "data.loc['2024-08-16']"
   ]
  },
  {
   "cell_type": "code",
   "execution_count": 12,
   "metadata": {
    "colab": {
     "base_uri": "https://localhost:8080/"
    },
    "id": "C3of6IlX5ROm",
    "outputId": "bb1853e1-cbd5-448e-8db5-d3ad27d817ab"
   },
   "outputs": [
    {
     "name": "stdout",
     "output_type": "stream",
     "text": [
      "<class 'pandas.core.frame.DataFrame'>\n",
      "DatetimeIndex: 20160 entries, 2024-07-22 04:00:00 to 2024-08-19 19:59:00\n",
      "Data columns (total 7 columns):\n",
      " #   Column     Non-Null Count  Dtype  \n",
      "---  ------     --------------  -----  \n",
      " 0   open       20160 non-null  float64\n",
      " 1   high       20160 non-null  float64\n",
      " 2   low        20160 non-null  float64\n",
      " 3   close      20160 non-null  float64\n",
      " 4   volume     20160 non-null  float64\n",
      " 5   TradeData  20160 non-null  object \n",
      " 6   Time       20160 non-null  object \n",
      "dtypes: float64(5), object(2)\n",
      "memory usage: 1.2+ MB\n"
     ]
    }
   ],
   "source": [
    "market=data.between_time('00:00','23:59').copy()\n",
    "market.sort_index(inplace=True)\n",
    "market.info()\n",
    "\n"
   ]
  },
  {
   "cell_type": "code",
   "execution_count": 13,
   "metadata": {
    "colab": {
     "base_uri": "https://localhost:8080/",
     "height": 828
    },
    "id": "yMucrN8S6M2z",
    "outputId": "553dc111-9ec6-441a-e552-e5825e3f6b9e"
   },
   "outputs": [
    {
     "name": "stderr",
     "output_type": "stream",
     "text": [
      "C:\\Users\\PMLS\\AppData\\Local\\Temp\\ipykernel_32\\2723673570.py:1: FutureWarning: The provided callable <built-in function min> is currently using SeriesGroupBy.min. In a future version of pandas, the provided callable will be used directly. To keep current behavior pass the string \"min\" instead.\n",
      "  market.groupby('TradeData').agg({'low':min,'high':max})\n",
      "C:\\Users\\PMLS\\AppData\\Local\\Temp\\ipykernel_32\\2723673570.py:1: FutureWarning: The provided callable <built-in function max> is currently using SeriesGroupBy.max. In a future version of pandas, the provided callable will be used directly. To keep current behavior pass the string \"max\" instead.\n",
      "  market.groupby('TradeData').agg({'low':min,'high':max})\n"
     ]
    },
    {
     "data": {
      "text/html": [
       "<div>\n",
       "<style scoped>\n",
       "    .dataframe tbody tr th:only-of-type {\n",
       "        vertical-align: middle;\n",
       "    }\n",
       "\n",
       "    .dataframe tbody tr th {\n",
       "        vertical-align: top;\n",
       "    }\n",
       "\n",
       "    .dataframe thead th {\n",
       "        text-align: right;\n",
       "    }\n",
       "</style>\n",
       "<table border=\"1\" class=\"dataframe\">\n",
       "  <thead>\n",
       "    <tr style=\"text-align: right;\">\n",
       "      <th></th>\n",
       "      <th>low</th>\n",
       "      <th>high</th>\n",
       "    </tr>\n",
       "    <tr>\n",
       "      <th>TradeData</th>\n",
       "      <th></th>\n",
       "      <th></th>\n",
       "    </tr>\n",
       "  </thead>\n",
       "  <tbody>\n",
       "    <tr>\n",
       "      <th>2024-07-22</th>\n",
       "      <td>237.930</td>\n",
       "      <td>262.934</td>\n",
       "    </tr>\n",
       "    <tr>\n",
       "      <th>2024-07-23</th>\n",
       "      <td>171.782</td>\n",
       "      <td>255.759</td>\n",
       "    </tr>\n",
       "    <tr>\n",
       "      <th>2024-07-24</th>\n",
       "      <td>180.430</td>\n",
       "      <td>387.944</td>\n",
       "    </tr>\n",
       "    <tr>\n",
       "      <th>2024-07-25</th>\n",
       "      <td>206.298</td>\n",
       "      <td>264.220</td>\n",
       "    </tr>\n",
       "    <tr>\n",
       "      <th>2024-07-26</th>\n",
       "      <td>210.313</td>\n",
       "      <td>239.160</td>\n",
       "    </tr>\n",
       "    <tr>\n",
       "      <th>2024-07-29</th>\n",
       "      <td>216.060</td>\n",
       "      <td>248.954</td>\n",
       "    </tr>\n",
       "    <tr>\n",
       "      <th>2024-07-30</th>\n",
       "      <td>169.978</td>\n",
       "      <td>318.203</td>\n",
       "    </tr>\n",
       "    <tr>\n",
       "      <th>2024-07-31</th>\n",
       "      <td>220.845</td>\n",
       "      <td>249.380</td>\n",
       "    </tr>\n",
       "    <tr>\n",
       "      <th>2024-08-01</th>\n",
       "      <td>214.300</td>\n",
       "      <td>233.720</td>\n",
       "    </tr>\n",
       "    <tr>\n",
       "      <th>2024-08-02</th>\n",
       "      <td>193.099</td>\n",
       "      <td>230.005</td>\n",
       "    </tr>\n",
       "    <tr>\n",
       "      <th>2024-08-05</th>\n",
       "      <td>181.140</td>\n",
       "      <td>214.810</td>\n",
       "    </tr>\n",
       "    <tr>\n",
       "      <th>2024-08-06</th>\n",
       "      <td>171.782</td>\n",
       "      <td>254.155</td>\n",
       "    </tr>\n",
       "    <tr>\n",
       "      <th>2024-08-07</th>\n",
       "      <td>180.430</td>\n",
       "      <td>301.638</td>\n",
       "    </tr>\n",
       "    <tr>\n",
       "      <th>2024-08-08</th>\n",
       "      <td>189.630</td>\n",
       "      <td>213.809</td>\n",
       "    </tr>\n",
       "    <tr>\n",
       "      <th>2024-08-09</th>\n",
       "      <td>186.088</td>\n",
       "      <td>222.620</td>\n",
       "    </tr>\n",
       "    <tr>\n",
       "      <th>2024-08-12</th>\n",
       "      <td>185.269</td>\n",
       "      <td>211.011</td>\n",
       "    </tr>\n",
       "    <tr>\n",
       "      <th>2024-08-13</th>\n",
       "      <td>193.746</td>\n",
       "      <td>220.218</td>\n",
       "    </tr>\n",
       "    <tr>\n",
       "      <th>2024-08-14</th>\n",
       "      <td>175.501</td>\n",
       "      <td>250.080</td>\n",
       "    </tr>\n",
       "    <tr>\n",
       "      <th>2024-08-15</th>\n",
       "      <td>199.915</td>\n",
       "      <td>227.260</td>\n",
       "    </tr>\n",
       "    <tr>\n",
       "      <th>2024-08-16</th>\n",
       "      <td>204.325</td>\n",
       "      <td>229.940</td>\n",
       "    </tr>\n",
       "    <tr>\n",
       "      <th>2024-08-19</th>\n",
       "      <td>207.523</td>\n",
       "      <td>237.820</td>\n",
       "    </tr>\n",
       "  </tbody>\n",
       "</table>\n",
       "</div>"
      ],
      "text/plain": [
       "                low     high\n",
       "TradeData                   \n",
       "2024-07-22  237.930  262.934\n",
       "2024-07-23  171.782  255.759\n",
       "2024-07-24  180.430  387.944\n",
       "2024-07-25  206.298  264.220\n",
       "2024-07-26  210.313  239.160\n",
       "2024-07-29  216.060  248.954\n",
       "2024-07-30  169.978  318.203\n",
       "2024-07-31  220.845  249.380\n",
       "2024-08-01  214.300  233.720\n",
       "2024-08-02  193.099  230.005\n",
       "2024-08-05  181.140  214.810\n",
       "2024-08-06  171.782  254.155\n",
       "2024-08-07  180.430  301.638\n",
       "2024-08-08  189.630  213.809\n",
       "2024-08-09  186.088  222.620\n",
       "2024-08-12  185.269  211.011\n",
       "2024-08-13  193.746  220.218\n",
       "2024-08-14  175.501  250.080\n",
       "2024-08-15  199.915  227.260\n",
       "2024-08-16  204.325  229.940\n",
       "2024-08-19  207.523  237.820"
      ]
     },
     "execution_count": 13,
     "metadata": {},
     "output_type": "execute_result"
    }
   ],
   "source": [
    "market.groupby('TradeData').agg({'low':min,'high':max})"
   ]
  },
  {
   "cell_type": "code",
   "execution_count": 14,
   "metadata": {
    "colab": {
     "base_uri": "https://localhost:8080/",
     "height": 739
    },
    "id": "xb3IW7yP65tc",
    "outputId": "0bd30901-d152-4532-913f-ee6918fe508d"
   },
   "outputs": [
    {
     "data": {
      "text/html": [
       "<div>\n",
       "<style scoped>\n",
       "    .dataframe tbody tr th:only-of-type {\n",
       "        vertical-align: middle;\n",
       "    }\n",
       "\n",
       "    .dataframe tbody tr th {\n",
       "        vertical-align: top;\n",
       "    }\n",
       "\n",
       "    .dataframe thead th {\n",
       "        text-align: right;\n",
       "    }\n",
       "</style>\n",
       "<table border=\"1\" class=\"dataframe\">\n",
       "  <thead>\n",
       "    <tr style=\"text-align: right;\">\n",
       "      <th></th>\n",
       "      <th>open</th>\n",
       "      <th>high</th>\n",
       "      <th>low</th>\n",
       "      <th>close</th>\n",
       "      <th>volume</th>\n",
       "      <th>TradeData</th>\n",
       "      <th>Time</th>\n",
       "    </tr>\n",
       "    <tr>\n",
       "      <th>date</th>\n",
       "      <th></th>\n",
       "      <th></th>\n",
       "      <th></th>\n",
       "      <th></th>\n",
       "      <th></th>\n",
       "      <th></th>\n",
       "      <th></th>\n",
       "    </tr>\n",
       "  </thead>\n",
       "  <tbody>\n",
       "    <tr>\n",
       "      <th>2024-07-22 08:41:00</th>\n",
       "      <td>244.020</td>\n",
       "      <td>248.385</td>\n",
       "      <td>237.930</td>\n",
       "      <td>244.220</td>\n",
       "      <td>18474.0</td>\n",
       "      <td>2024-07-22</td>\n",
       "      <td>08:41:00</td>\n",
       "    </tr>\n",
       "    <tr>\n",
       "      <th>2024-07-23 16:56:00</th>\n",
       "      <td>239.350</td>\n",
       "      <td>254.155</td>\n",
       "      <td>171.782</td>\n",
       "      <td>239.250</td>\n",
       "      <td>42893.0</td>\n",
       "      <td>2024-07-23</td>\n",
       "      <td>16:56:00</td>\n",
       "    </tr>\n",
       "    <tr>\n",
       "      <th>2024-07-24 16:58:00</th>\n",
       "      <td>215.200</td>\n",
       "      <td>365.268</td>\n",
       "      <td>180.430</td>\n",
       "      <td>215.170</td>\n",
       "      <td>43463.0</td>\n",
       "      <td>2024-07-24</td>\n",
       "      <td>16:58:00</td>\n",
       "    </tr>\n",
       "    <tr>\n",
       "      <th>2024-07-25 16:47:00</th>\n",
       "      <td>219.090</td>\n",
       "      <td>219.090</td>\n",
       "      <td>206.298</td>\n",
       "      <td>219.090</td>\n",
       "      <td>13065.0</td>\n",
       "      <td>2024-07-25</td>\n",
       "      <td>16:47:00</td>\n",
       "    </tr>\n",
       "    <tr>\n",
       "      <th>2024-07-26 16:51:00</th>\n",
       "      <td>219.970</td>\n",
       "      <td>220.000</td>\n",
       "      <td>210.313</td>\n",
       "      <td>211.232</td>\n",
       "      <td>5661.0</td>\n",
       "      <td>2024-07-26</td>\n",
       "      <td>16:51:00</td>\n",
       "    </tr>\n",
       "    <tr>\n",
       "      <th>2024-07-29 08:56:00</th>\n",
       "      <td>223.420</td>\n",
       "      <td>223.500</td>\n",
       "      <td>216.060</td>\n",
       "      <td>223.430</td>\n",
       "      <td>5535.0</td>\n",
       "      <td>2024-07-29</td>\n",
       "      <td>08:56:00</td>\n",
       "    </tr>\n",
       "    <tr>\n",
       "      <th>2024-07-30 16:54:00</th>\n",
       "      <td>221.690</td>\n",
       "      <td>301.638</td>\n",
       "      <td>169.978</td>\n",
       "      <td>221.550</td>\n",
       "      <td>12042.0</td>\n",
       "      <td>2024-07-30</td>\n",
       "      <td>16:54:00</td>\n",
       "    </tr>\n",
       "    <tr>\n",
       "      <th>2024-07-31 08:45:00</th>\n",
       "      <td>225.190</td>\n",
       "      <td>229.540</td>\n",
       "      <td>220.845</td>\n",
       "      <td>225.120</td>\n",
       "      <td>5723.0</td>\n",
       "      <td>2024-07-31</td>\n",
       "      <td>08:45:00</td>\n",
       "    </tr>\n",
       "    <tr>\n",
       "      <th>2024-08-01 16:26:00</th>\n",
       "      <td>215.000</td>\n",
       "      <td>215.000</td>\n",
       "      <td>214.300</td>\n",
       "      <td>214.660</td>\n",
       "      <td>25256.0</td>\n",
       "      <td>2024-08-01</td>\n",
       "      <td>16:26:00</td>\n",
       "    </tr>\n",
       "    <tr>\n",
       "      <th>2024-08-02 16:58:00</th>\n",
       "      <td>207.430</td>\n",
       "      <td>221.210</td>\n",
       "      <td>193.099</td>\n",
       "      <td>207.400</td>\n",
       "      <td>5152.0</td>\n",
       "      <td>2024-08-02</td>\n",
       "      <td>16:58:00</td>\n",
       "    </tr>\n",
       "    <tr>\n",
       "      <th>2024-08-05 08:03:00</th>\n",
       "      <td>190.360</td>\n",
       "      <td>192.070</td>\n",
       "      <td>181.140</td>\n",
       "      <td>190.220</td>\n",
       "      <td>25397.0</td>\n",
       "      <td>2024-08-05</td>\n",
       "      <td>08:03:00</td>\n",
       "    </tr>\n",
       "    <tr>\n",
       "      <th>2024-08-06 17:01:00</th>\n",
       "      <td>198.970</td>\n",
       "      <td>254.155</td>\n",
       "      <td>171.782</td>\n",
       "      <td>198.591</td>\n",
       "      <td>10023.0</td>\n",
       "      <td>2024-08-06</td>\n",
       "      <td>17:01:00</td>\n",
       "    </tr>\n",
       "    <tr>\n",
       "      <th>2024-08-07 16:53:00</th>\n",
       "      <td>190.050</td>\n",
       "      <td>300.535</td>\n",
       "      <td>180.430</td>\n",
       "      <td>189.955</td>\n",
       "      <td>61135.0</td>\n",
       "      <td>2024-08-07</td>\n",
       "      <td>16:53:00</td>\n",
       "    </tr>\n",
       "    <tr>\n",
       "      <th>2024-08-08 08:00:00</th>\n",
       "      <td>191.754</td>\n",
       "      <td>192.986</td>\n",
       "      <td>189.630</td>\n",
       "      <td>191.150</td>\n",
       "      <td>72046.0</td>\n",
       "      <td>2024-08-08</td>\n",
       "      <td>08:00:00</td>\n",
       "    </tr>\n",
       "    <tr>\n",
       "      <th>2024-08-09 16:57:00</th>\n",
       "      <td>200.000</td>\n",
       "      <td>211.232</td>\n",
       "      <td>186.088</td>\n",
       "      <td>199.950</td>\n",
       "      <td>5640.0</td>\n",
       "      <td>2024-08-09</td>\n",
       "      <td>16:57:00</td>\n",
       "    </tr>\n",
       "    <tr>\n",
       "      <th>2024-08-12 17:24:00</th>\n",
       "      <td>197.760</td>\n",
       "      <td>201.581</td>\n",
       "      <td>185.269</td>\n",
       "      <td>197.750</td>\n",
       "      <td>1392.0</td>\n",
       "      <td>2024-08-12</td>\n",
       "      <td>17:24:00</td>\n",
       "    </tr>\n",
       "    <tr>\n",
       "      <th>2024-08-13 17:30:00</th>\n",
       "      <td>207.556</td>\n",
       "      <td>213.313</td>\n",
       "      <td>193.746</td>\n",
       "      <td>207.590</td>\n",
       "      <td>3368.0</td>\n",
       "      <td>2024-08-13</td>\n",
       "      <td>17:30:00</td>\n",
       "    </tr>\n",
       "    <tr>\n",
       "      <th>2024-08-14 17:01:00</th>\n",
       "      <td>201.110</td>\n",
       "      <td>219.001</td>\n",
       "      <td>175.501</td>\n",
       "      <td>201.150</td>\n",
       "      <td>3223.0</td>\n",
       "      <td>2024-08-14</td>\n",
       "      <td>17:01:00</td>\n",
       "    </tr>\n",
       "    <tr>\n",
       "      <th>2024-08-15 09:16:00</th>\n",
       "      <td>204.250</td>\n",
       "      <td>207.665</td>\n",
       "      <td>199.915</td>\n",
       "      <td>204.200</td>\n",
       "      <td>18647.0</td>\n",
       "      <td>2024-08-15</td>\n",
       "      <td>09:16:00</td>\n",
       "    </tr>\n",
       "    <tr>\n",
       "      <th>2024-08-16 08:52:00</th>\n",
       "      <td>211.500</td>\n",
       "      <td>215.380</td>\n",
       "      <td>204.325</td>\n",
       "      <td>211.550</td>\n",
       "      <td>6664.0</td>\n",
       "      <td>2024-08-16</td>\n",
       "      <td>08:52:00</td>\n",
       "    </tr>\n",
       "    <tr>\n",
       "      <th>2024-08-19 17:04:00</th>\n",
       "      <td>222.510</td>\n",
       "      <td>222.720</td>\n",
       "      <td>207.523</td>\n",
       "      <td>222.520</td>\n",
       "      <td>20387.0</td>\n",
       "      <td>2024-08-19</td>\n",
       "      <td>17:04:00</td>\n",
       "    </tr>\n",
       "  </tbody>\n",
       "</table>\n",
       "</div>"
      ],
      "text/plain": [
       "                        open     high      low    close   volume   TradeData  \\\n",
       "date                                                                           \n",
       "2024-07-22 08:41:00  244.020  248.385  237.930  244.220  18474.0  2024-07-22   \n",
       "2024-07-23 16:56:00  239.350  254.155  171.782  239.250  42893.0  2024-07-23   \n",
       "2024-07-24 16:58:00  215.200  365.268  180.430  215.170  43463.0  2024-07-24   \n",
       "2024-07-25 16:47:00  219.090  219.090  206.298  219.090  13065.0  2024-07-25   \n",
       "2024-07-26 16:51:00  219.970  220.000  210.313  211.232   5661.0  2024-07-26   \n",
       "2024-07-29 08:56:00  223.420  223.500  216.060  223.430   5535.0  2024-07-29   \n",
       "2024-07-30 16:54:00  221.690  301.638  169.978  221.550  12042.0  2024-07-30   \n",
       "2024-07-31 08:45:00  225.190  229.540  220.845  225.120   5723.0  2024-07-31   \n",
       "2024-08-01 16:26:00  215.000  215.000  214.300  214.660  25256.0  2024-08-01   \n",
       "2024-08-02 16:58:00  207.430  221.210  193.099  207.400   5152.0  2024-08-02   \n",
       "2024-08-05 08:03:00  190.360  192.070  181.140  190.220  25397.0  2024-08-05   \n",
       "2024-08-06 17:01:00  198.970  254.155  171.782  198.591  10023.0  2024-08-06   \n",
       "2024-08-07 16:53:00  190.050  300.535  180.430  189.955  61135.0  2024-08-07   \n",
       "2024-08-08 08:00:00  191.754  192.986  189.630  191.150  72046.0  2024-08-08   \n",
       "2024-08-09 16:57:00  200.000  211.232  186.088  199.950   5640.0  2024-08-09   \n",
       "2024-08-12 17:24:00  197.760  201.581  185.269  197.750   1392.0  2024-08-12   \n",
       "2024-08-13 17:30:00  207.556  213.313  193.746  207.590   3368.0  2024-08-13   \n",
       "2024-08-14 17:01:00  201.110  219.001  175.501  201.150   3223.0  2024-08-14   \n",
       "2024-08-15 09:16:00  204.250  207.665  199.915  204.200  18647.0  2024-08-15   \n",
       "2024-08-16 08:52:00  211.500  215.380  204.325  211.550   6664.0  2024-08-16   \n",
       "2024-08-19 17:04:00  222.510  222.720  207.523  222.520  20387.0  2024-08-19   \n",
       "\n",
       "                         Time  \n",
       "date                           \n",
       "2024-07-22 08:41:00  08:41:00  \n",
       "2024-07-23 16:56:00  16:56:00  \n",
       "2024-07-24 16:58:00  16:58:00  \n",
       "2024-07-25 16:47:00  16:47:00  \n",
       "2024-07-26 16:51:00  16:51:00  \n",
       "2024-07-29 08:56:00  08:56:00  \n",
       "2024-07-30 16:54:00  16:54:00  \n",
       "2024-07-31 08:45:00  08:45:00  \n",
       "2024-08-01 16:26:00  16:26:00  \n",
       "2024-08-02 16:58:00  16:58:00  \n",
       "2024-08-05 08:03:00  08:03:00  \n",
       "2024-08-06 17:01:00  17:01:00  \n",
       "2024-08-07 16:53:00  16:53:00  \n",
       "2024-08-08 08:00:00  08:00:00  \n",
       "2024-08-09 16:57:00  16:57:00  \n",
       "2024-08-12 17:24:00  17:24:00  \n",
       "2024-08-13 17:30:00  17:30:00  \n",
       "2024-08-14 17:01:00  17:01:00  \n",
       "2024-08-15 09:16:00  09:16:00  \n",
       "2024-08-16 08:52:00  08:52:00  \n",
       "2024-08-19 17:04:00  17:04:00  "
      ]
     },
     "execution_count": 14,
     "metadata": {},
     "output_type": "execute_result"
    }
   ],
   "source": [
    "market.loc[market.groupby('TradeData')['low'].idxmin()]"
   ]
  },
  {
   "cell_type": "code",
   "execution_count": 15,
   "metadata": {
    "colab": {
     "base_uri": "https://localhost:8080/",
     "height": 489
    },
    "id": "MtIddZeHKMf_",
    "outputId": "fcd617d4-2ced-4ec0-a2b0-c0086e6865cc"
   },
   "outputs": [
    {
     "data": {
      "text/plain": [
       "date\n",
       "2024-07-22 04:00:00    242.32\n",
       "2024-07-22 04:01:00    242.38\n",
       "2024-07-22 04:02:00    242.92\n",
       "2024-07-22 04:03:00    242.88\n",
       "2024-07-22 04:04:00    242.50\n",
       "                        ...  \n",
       "2024-08-19 19:55:00    222.08\n",
       "2024-08-19 19:56:00    222.10\n",
       "2024-08-19 19:57:00    222.10\n",
       "2024-08-19 19:58:00    222.11\n",
       "2024-08-19 19:59:00    222.00\n",
       "Name: close, Length: 20160, dtype: float64"
      ]
     },
     "execution_count": 15,
     "metadata": {},
     "output_type": "execute_result"
    }
   ],
   "source": [
    "market['close']"
   ]
  },
  {
   "cell_type": "code",
   "execution_count": 16,
   "metadata": {
    "colab": {
     "base_uri": "https://localhost:8080/",
     "height": 241
    },
    "id": "6a_KrkxWLnAo",
    "outputId": "f5a37bae-be64-42c1-d93b-459d5577e47d"
   },
   "outputs": [
    {
     "data": {
      "text/plain": [
       "0    242.32\n",
       "1    242.38\n",
       "2    242.92\n",
       "3    242.88\n",
       "4    242.50\n",
       "Name: close, dtype: float64"
      ]
     },
     "execution_count": 16,
     "metadata": {},
     "output_type": "execute_result"
    }
   ],
   "source": [
    "# get the close column only\n",
    "df1=market.reset_index()['close']\n",
    "df1.head()\n"
   ]
  },
  {
   "cell_type": "code",
   "execution_count": 17,
   "metadata": {
    "colab": {
     "base_uri": "https://localhost:8080/",
     "height": 447
    },
    "id": "Qx9GtV8xL_Gw",
    "outputId": "c05d1012-c1c7-43fd-9ffa-0520973e76bc"
   },
   "outputs": [
    {
     "data": {
      "text/plain": [
       "[<matplotlib.lines.Line2D at 0x2506918a990>]"
      ]
     },
     "execution_count": 17,
     "metadata": {},
     "output_type": "execute_result"
    },
    {
     "data": {
      "image/png": "[encoded data removed]",
      "text/plain": [
       "<Figure size 640x480 with 1 Axes>"
      ]
     },
     "metadata": {},
     "output_type": "display_data"
    }
   ],
   "source": [
    "df1.shape\n",
    "plt.plot(df1)\n"
   ]
  },
  {
   "cell_type": "code",
   "execution_count": 18,
   "metadata": {
    "colab": {
     "base_uri": "https://localhost:8080/",
     "height": 458
    },
    "id": "PaXAN689M5LA",
    "outputId": "d4c6fac8-b5d2-4c25-fe11-fcb137ac4158"
   },
   "outputs": [
    {
     "data": {
      "text/plain": [
       "0        242.32\n",
       "1        242.38\n",
       "2        242.92\n",
       "3        242.88\n",
       "4        242.50\n",
       "          ...  \n",
       "20155    222.08\n",
       "20156    222.10\n",
       "20157    222.10\n",
       "20158    222.11\n",
       "20159    222.00\n",
       "Name: close, Length: 20160, dtype: float64"
      ]
     },
     "execution_count": 18,
     "metadata": {},
     "output_type": "execute_result"
    }
   ],
   "source": [
    "df1"
   ]
  },
  {
   "cell_type": "code",
   "execution_count": 19,
   "metadata": {
    "id": "yTdMtx598VVI"
   },
   "outputs": [],
   "source": [
    "import numpy as np\n",
    "from sklearn.preprocessing import MinMaxScaler\n",
    "scaler=MinMaxScaler(feature_range=(0,1))\n",
    "df1=scaler.fit_transform(np.array(df1).reshape(-1,1))\n"
   ]
  },
  {
   "cell_type": "code",
   "execution_count": 20,
   "metadata": {
    "colab": {
     "base_uri": "https://localhost:8080/"
    },
    "id": "ek0_agcjKg2h",
    "outputId": "cc54e996-9dcb-4bee-dd5b-82f3efe374f0"
   },
   "outputs": [
    {
     "data": {
      "text/plain": [
       "(20160, 1)"
      ]
     },
     "execution_count": 20,
     "metadata": {},
     "output_type": "execute_result"
    }
   ],
   "source": [
    "df1.shape\n"
   ]
  },
  {
   "cell_type": "code",
   "execution_count": 21,
   "metadata": {
    "colab": {
     "base_uri": "https://localhost:8080/"
    },
    "id": "0fNWZqzAKJj-",
    "outputId": "429b2867-0a3c-431c-ad09-8c4c9fa7d707"
   },
   "outputs": [
    {
     "data": {
      "text/plain": [
       "array([[0.41536753],\n",
       "       [0.41578141],\n",
       "       [0.41950637],\n",
       "       ...,\n",
       "       [0.27588847],\n",
       "       [0.27595745],\n",
       "       [0.27519866]])"
      ]
     },
     "execution_count": 21,
     "metadata": {},
     "output_type": "execute_result"
    }
   ],
   "source": [
    "df1"
   ]
  },
  {
   "cell_type": "code",
   "execution_count": 22,
   "metadata": {
    "id": "yJ-k6cjsK56R"
   },
   "outputs": [],
   "source": [
    "#splitting the data into train-test split\n",
    "training_size=int(len(df1)*0.65)\n",
    "test_size=len(df1)-training_size\n",
    "train_data,test_data=df1[0:training_size,:],df1[training_size:len(df1),:1]"
   ]
  },
  {
   "cell_type": "code",
   "execution_count": 23,
   "metadata": {
    "colab": {
     "base_uri": "https://localhost:8080/"
    },
    "id": "rMXQ0NhnPMnC",
    "outputId": "6657f341-5178-44d6-f04f-fe46943da1a1"
   },
   "outputs": [
    {
     "data": {
      "text/plain": [
       "(13104, 7056)"
      ]
     },
     "execution_count": 23,
     "metadata": {},
     "output_type": "execute_result"
    }
   ],
   "source": [
    "training_size,test_size"
   ]
  },
  {
   "cell_type": "code",
   "execution_count": 24,
   "metadata": {
    "id": "q31FGm-aPSZi"
   },
   "outputs": [],
   "source": [
    "# convert an array of values into dataset matrix\n",
    "def create_dataset(dataset,time_step=1):\n",
    "  dataX,dataY=[],[]\n",
    "  for i in range(len(dataset)-time_step-1):\n",
    "    a=dataset[i:(i+time_step),0]\n",
    "    dataX.append(a)\n",
    "    dataY.append(dataset[i+time_step,0])\n",
    "  return np.array(dataX),np.array(dataY)\n"
   ]
  },
  {
   "cell_type": "code",
   "execution_count": 25,
   "metadata": {
    "id": "LqWTz4Rxdota"
   },
   "outputs": [],
   "source": [
    " # reshape into X=t,t+1,t+2,t+3 and Y=t+4\n",
    "time_step=100\n",
    "X_train, Y_train=create_dataset(train_data,time_step)\n",
    "X_test,Y_test=create_dataset(test_data,time_step)"
   ]
  },
  {
   "cell_type": "code",
   "execution_count": 26,
   "metadata": {
    "colab": {
     "base_uri": "https://localhost:8080/"
    },
    "id": "kVGtbBHMfDEE",
    "outputId": "25ed0c3a-2c2f-4862-fc91-c06fbfa4cf67"
   },
   "outputs": [
    {
     "name": "stdout",
     "output_type": "stream",
     "text": [
      "[[0.41536753 0.41578141 0.41950637 ... 0.4108148  0.41136665 0.41088378]\n",
      " [0.41578141 0.41950637 0.41923045 ... 0.41136665 0.41088378 0.41122868]\n",
      " [0.41950637 0.41923045 0.41660918 ... 0.41088378 0.41122868 0.41095276]\n",
      " ...\n",
      " [0.10143618 0.1013672  0.10053943 ... 0.12764886 0.12668313 0.12766955]\n",
      " [0.1013672  0.10053943 0.10125683 ... 0.12668313 0.12766955 0.127166  ]\n",
      " [0.10053943 0.10125683 0.10274681 ... 0.12766955 0.127166   0.12771784]]\n"
     ]
    }
   ],
   "source": [
    "print(X_train)"
   ]
  },
  {
   "cell_type": "code",
   "execution_count": 27,
   "metadata": {
    "colab": {
     "base_uri": "https://localhost:8080/"
    },
    "id": "khpJNjTZfTBJ",
    "outputId": "e3aebbbd-6653-4800-db52-57c2772e7f85"
   },
   "outputs": [
    {
     "name": "stdout",
     "output_type": "stream",
     "text": [
      "(13003, 100)\n",
      "(13003,)\n"
     ]
    },
    {
     "data": {
      "text/plain": [
       "(None, None)"
      ]
     },
     "execution_count": 27,
     "metadata": {},
     "output_type": "execute_result"
    }
   ],
   "source": [
    "print(X_train.shape),print(Y_train.shape)"
   ]
  },
  {
   "cell_type": "code",
   "execution_count": 28,
   "metadata": {
    "colab": {
     "base_uri": "https://localhost:8080/"
    },
    "id": "IaIauhQcfsyY",
    "outputId": "5ba88ecf-eb92-4b49-e17e-494551d8d300"
   },
   "outputs": [
    {
     "name": "stdout",
     "output_type": "stream",
     "text": [
      "(6955, 100)\n",
      "(6955,)\n"
     ]
    },
    {
     "data": {
      "text/plain": [
       "(None, None)"
      ]
     },
     "execution_count": 28,
     "metadata": {},
     "output_type": "execute_result"
    }
   ],
   "source": [
    "print(X_test.shape),print(Y_test.shape)"
   ]
  },
  {
   "cell_type": "code",
   "execution_count": 29,
   "metadata": {
    "id": "3UzOssUHfzhn"
   },
   "outputs": [],
   "source": [
    " # reshape input to be [samples, time steps, features] is required for LSTM\n",
    "X_train=X_train.reshape(X_train.shape[0],X_train.shape[1],1)\n",
    "X_test=X_test.reshape(X_test.shape[0],X_test.shape[1],1)"
   ]
  },
  {
   "cell_type": "code",
   "execution_count": 30,
   "metadata": {
    "id": "onx49hMQhegP"
   },
   "outputs": [],
   "source": [
    "# create the LSTM model\n",
    "\n",
    "import tensorflow as tf\n",
    "from tensorflow.keras.models import Sequential\n",
    "from tensorflow.keras.layers import Dense\n",
    "from tensorflow.keras.layers import LSTM"
   ]
  },
  {
   "cell_type": "code",
   "execution_count": 31,
   "metadata": {
    "colab": {
     "base_uri": "https://localhost:8080/"
    },
    "id": "aQm2hhjbjDPT",
    "outputId": "86f88e11-0ddb-4050-d879-b1f9219202a4"
   },
   "outputs": [
    {
     "name": "stderr",
     "output_type": "stream",
     "text": [
      "C:\\Users\\PMLS\\anaconda3\\envs\\flak_env\\Lib\\site-packages\\keras\\src\\layers\\rnn\\rnn.py:204: UserWarning: Do not pass an `input_shape`/`input_dim` argument to a layer. When using Sequential models, prefer using an `Input(shape)` object as the first layer in the model instead.\n",
      "  super().__init__(**kwargs)\n"
     ]
    }
   ],
   "source": [
    "model=Sequential()\n",
    "model.add(LSTM(50,return_sequences=True,input_shape=(100,1)))\n",
    "model.add(LSTM(50,return_sequences=True))\n",
    "model.add(LSTM(50))\n",
    "model.add(Dense(1))\n",
    "model.compile(loss='mean_squared_error',optimizer='adam')"
   ]
  },
  {
   "cell_type": "code",
   "execution_count": 32,
   "metadata": {
    "colab": {
     "base_uri": "https://localhost:8080/",
     "height": 274
    },
    "id": "NLZqAjFzjSY3",
    "outputId": "5e1f375d-4ed2-4888-d090-b9b09c39c4b6"
   },
   "outputs": [
    {
     "data": {
      "text/html": [
       "<pre style=\"white-space:pre;overflow-x:auto;line-height:normal;font-family:Menlo,'DejaVu Sans Mono',consolas,'Courier New',monospace\"><span style=\"font-weight: bold\">Model: \"sequential\"</span>\n",
       "</pre>\n"
      ],
      "text/plain": [
       "\u001b[1mModel: \"sequential\"\u001b[0m\n"
      ]
     },
     "metadata": {},
     "output_type": "display_data"
    },
    {
     "data": {
      "text/html": [
       "<pre style=\"white-space:pre;overflow-x:auto;line-height:normal;font-family:Menlo,'DejaVu Sans Mono',consolas,'Courier New',monospace\">┏━━━━━━━━━━━━━━━━━━━━━━━━━━━━━━━━━┳━━━━━━━━━━━━━━━━━━━━━━━━┳━━━━━━━━━━━━━━━┓\n",
       "┃<span style=\"font-weight: bold\"> Layer (type)                    </span>┃<span style=\"font-weight: bold\"> Output Shape           </span>┃<span style=\"font-weight: bold\">       Param # </span>┃\n",
       "┡━━━━━━━━━━━━━━━━━━━━━━━━━━━━━━━━━╇━━━━━━━━━━━━━━━━━━━━━━━━╇━━━━━━━━━━━━━━━┩\n",
       "│ lstm (<span style=\"color: #0087ff; text-decoration-color: #0087ff\">LSTM</span>)                     │ (<span style=\"color: #00d7ff; text-decoration-color: #00d7ff\">None</span>, <span style=\"color: #00af00; text-decoration-color: #00af00\">100</span>, <span style=\"color: #00af00; text-decoration-color: #00af00\">50</span>)        │        <span style=\"color: #00af00; text-decoration-color: #00af00\">10,400</span> │\n",
       "├─────────────────────────────────┼────────────────────────┼───────────────┤\n",
       "│ lstm_1 (<span style=\"color: #0087ff; text-decoration-color: #0087ff\">LSTM</span>)                   │ (<span style=\"color: #00d7ff; text-decoration-color: #00d7ff\">None</span>, <span style=\"color: #00af00; text-decoration-color: #00af00\">100</span>, <span style=\"color: #00af00; text-decoration-color: #00af00\">50</span>)        │        <span style=\"color: #00af00; text-decoration-color: #00af00\">20,200</span> │\n",
       "├─────────────────────────────────┼────────────────────────┼───────────────┤\n",
       "│ lstm_2 (<span style=\"color: #0087ff; text-decoration-color: #0087ff\">LSTM</span>)                   │ (<span style=\"color: #00d7ff; text-decoration-color: #00d7ff\">None</span>, <span style=\"color: #00af00; text-decoration-color: #00af00\">50</span>)             │        <span style=\"color: #00af00; text-decoration-color: #00af00\">20,200</span> │\n",
       "├─────────────────────────────────┼────────────────────────┼───────────────┤\n",
       "│ dense (<span style=\"color: #0087ff; text-decoration-color: #0087ff\">Dense</span>)                   │ (<span style=\"color: #00d7ff; text-decoration-color: #00d7ff\">None</span>, <span style=\"color: #00af00; text-decoration-color: #00af00\">1</span>)              │            <span style=\"color: #00af00; text-decoration-color: #00af00\">51</span> │\n",
       "└─────────────────────────────────┴────────────────────────┴───────────────┘\n",
       "</pre>\n"
      ],
      "text/plain": [
       "┏━━━━━━━━━━━━━━━━━━━━━━━━━━━━━━━━━┳━━━━━━━━━━━━━━━━━━━━━━━━┳━━━━━━━━━━━━━━━┓\n",
       "┃\u001b[1m \u001b[0m\u001b[1mLayer (type)                   \u001b[0m\u001b[1m \u001b[0m┃\u001b[1m \u001b[0m\u001b[1mOutput Shape          \u001b[0m\u001b[1m \u001b[0m┃\u001b[1m \u001b[0m\u001b[1m      Param #\u001b[0m\u001b[1m \u001b[0m┃\n",
       "┡━━━━━━━━━━━━━━━━━━━━━━━━━━━━━━━━━╇━━━━━━━━━━━━━━━━━━━━━━━━╇━━━━━━━━━━━━━━━┩\n",
       "│ lstm (\u001b[38;5;33mLSTM\u001b[0m)                     │ (\u001b[38;5;45mNone\u001b[0m, \u001b[38;5;34m100\u001b[0m, \u001b[38;5;34m50\u001b[0m)        │        \u001b[38;5;34m10,400\u001b[0m │\n",
       "├─────────────────────────────────┼────────────────────────┼───────────────┤\n",
       "│ lstm_1 (\u001b[38;5;33mLSTM\u001b[0m)                   │ (\u001b[38;5;45mNone\u001b[0m, \u001b[38;5;34m100\u001b[0m, \u001b[38;5;34m50\u001b[0m)        │        \u001b[38;5;34m20,200\u001b[0m │\n",
       "├─────────────────────────────────┼────────────────────────┼───────────────┤\n",
       "│ lstm_2 (\u001b[38;5;33mLSTM\u001b[0m)                   │ (\u001b[38;5;45mNone\u001b[0m, \u001b[38;5;34m50\u001b[0m)             │        \u001b[38;5;34m20,200\u001b[0m │\n",
       "├─────────────────────────────────┼────────────────────────┼───────────────┤\n",
       "│ dense (\u001b[38;5;33mDense\u001b[0m)                   │ (\u001b[38;5;45mNone\u001b[0m, \u001b[38;5;34m1\u001b[0m)              │            \u001b[38;5;34m51\u001b[0m │\n",
       "└─────────────────────────────────┴────────────────────────┴───────────────┘\n"
      ]
     },
     "metadata": {},
     "output_type": "display_data"
    },
    {
     "data": {
      "text/html": [
       "<pre style=\"white-space:pre;overflow-x:auto;line-height:normal;font-family:Menlo,'DejaVu Sans Mono',consolas,'Courier New',monospace\"><span style=\"font-weight: bold\"> Total params: </span><span style=\"color: #00af00; text-decoration-color: #00af00\">50,851</span> (198.64 KB)\n",
       "</pre>\n"
      ],
      "text/plain": [
       "\u001b[1m Total params: \u001b[0m\u001b[38;5;34m50,851\u001b[0m (198.64 KB)\n"
      ]
     },
     "metadata": {},
     "output_type": "display_data"
    },
    {
     "data": {
      "text/html": [
       "<pre style=\"white-space:pre;overflow-x:auto;line-height:normal;font-family:Menlo,'DejaVu Sans Mono',consolas,'Courier New',monospace\"><span style=\"font-weight: bold\"> Trainable params: </span><span style=\"color: #00af00; text-decoration-color: #00af00\">50,851</span> (198.64 KB)\n",
       "</pre>\n"
      ],
      "text/plain": [
       "\u001b[1m Trainable params: \u001b[0m\u001b[38;5;34m50,851\u001b[0m (198.64 KB)\n"
      ]
     },
     "metadata": {},
     "output_type": "display_data"
    },
    {
     "data": {
      "text/html": [
       "<pre style=\"white-space:pre;overflow-x:auto;line-height:normal;font-family:Menlo,'DejaVu Sans Mono',consolas,'Courier New',monospace\"><span style=\"font-weight: bold\"> Non-trainable params: </span><span style=\"color: #00af00; text-decoration-color: #00af00\">0</span> (0.00 B)\n",
       "</pre>\n"
      ],
      "text/plain": [
       "\u001b[1m Non-trainable params: \u001b[0m\u001b[38;5;34m0\u001b[0m (0.00 B)\n"
      ]
     },
     "metadata": {},
     "output_type": "display_data"
    }
   ],
   "source": [
    "model.summary()"
   ]
  },
  {
   "cell_type": "code",
   "execution_count": 35,
   "metadata": {
    "colab": {
     "base_uri": "https://localhost:8080/"
    },
    "id": "lh6wE4IyjW3-",
    "outputId": "9242b2fb-395d-4249-c195-927d66a235f5"
   },
   "outputs": [
    {
     "data": {
      "text/plain": [
       "array([[[0.41536753],\n",
       "        [0.41578141],\n",
       "        [0.41950637],\n",
       "        ...,\n",
       "        [0.4108148 ],\n",
       "        [0.41136665],\n",
       "        [0.41088378]],\n",
       "\n",
       "       [[0.41578141],\n",
       "        [0.41950637],\n",
       "        [0.41923045],\n",
       "        ...,\n",
       "        [0.41136665],\n",
       "        [0.41088378],\n",
       "        [0.41122868]],\n",
       "\n",
       "       [[0.41950637],\n",
       "        [0.41923045],\n",
       "        [0.41660918],\n",
       "        ...,\n",
       "        [0.41088378],\n",
       "        [0.41122868],\n",
       "        [0.41095276]],\n",
       "\n",
       "       ...,\n",
       "\n",
       "       [[0.4108148 ],\n",
       "        [0.41136665],\n",
       "        [0.41088378],\n",
       "        ...,\n",
       "        [0.4104699 ],\n",
       "        [0.41157359],\n",
       "        [0.41178053]],\n",
       "\n",
       "       [[0.41136665],\n",
       "        [0.41088378],\n",
       "        [0.41122868],\n",
       "        ...,\n",
       "        [0.41157359],\n",
       "        [0.41178053],\n",
       "        [0.41157359]],\n",
       "\n",
       "       [[0.41088378],\n",
       "        [0.41122868],\n",
       "        [0.41095276],\n",
       "        ...,\n",
       "        [0.41178053],\n",
       "        [0.41157359],\n",
       "        [0.41191849]]])"
      ]
     },
     "execution_count": 35,
     "metadata": {},
     "output_type": "execute_result"
    }
   ],
   "source": [
    "X_train[:100]"
   ]
  },
  {
   "cell_type": "code",
   "execution_count": 33,
   "metadata": {},
   "outputs": [
    {
     "name": "stdout",
     "output_type": "stream",
     "text": [
      "Epoch 1/30\n",
      "\u001b[1m204/204\u001b[0m \u001b[32m━━━━━━━━━━━━━━━━━━━━\u001b[0m\u001b[37m\u001b[0m \u001b[1m44s\u001b[0m 181ms/step - loss: 0.0055 - val_loss: 2.2401e-05\n",
      "Epoch 2/30\n",
      "\u001b[1m204/204\u001b[0m \u001b[32m━━━━━━━━━━━━━━━━━━━━\u001b[0m\u001b[37m\u001b[0m \u001b[1m37s\u001b[0m 181ms/step - loss: 1.0856e-04 - val_loss: 2.9355e-05\n",
      "Epoch 3/30\n",
      "\u001b[1m204/204\u001b[0m \u001b[32m━━━━━━━━━━━━━━━━━━━━\u001b[0m\u001b[37m\u001b[0m \u001b[1m37s\u001b[0m 183ms/step - loss: 9.0847e-05 - val_loss: 3.5777e-05\n",
      "Epoch 4/30\n",
      "\u001b[1m204/204\u001b[0m \u001b[32m━━━━━━━━━━━━━━━━━━━━\u001b[0m\u001b[37m\u001b[0m \u001b[1m38s\u001b[0m 187ms/step - loss: 1.6646e-04 - val_loss: 2.1859e-05\n",
      "Epoch 5/30\n",
      "\u001b[1m204/204\u001b[0m \u001b[32m━━━━━━━━━━━━━━━━━━━━\u001b[0m\u001b[37m\u001b[0m \u001b[1m37s\u001b[0m 184ms/step - loss: 1.0379e-04 - val_loss: 2.1160e-05\n",
      "Epoch 6/30\n",
      "\u001b[1m204/204\u001b[0m \u001b[32m━━━━━━━━━━━━━━━━━━━━\u001b[0m\u001b[37m\u001b[0m \u001b[1m38s\u001b[0m 184ms/step - loss: 7.8327e-05 - val_loss: 1.8255e-05\n",
      "Epoch 7/30\n",
      "\u001b[1m204/204\u001b[0m \u001b[32m━━━━━━━━━━━━━━━━━━━━\u001b[0m\u001b[37m\u001b[0m \u001b[1m39s\u001b[0m 189ms/step - loss: 9.5114e-05 - val_loss: 1.7986e-05\n",
      "Epoch 8/30\n",
      "\u001b[1m204/204\u001b[0m \u001b[32m━━━━━━━━━━━━━━━━━━━━\u001b[0m\u001b[37m\u001b[0m \u001b[1m39s\u001b[0m 191ms/step - loss: 7.4614e-05 - val_loss: 1.6260e-05\n",
      "Epoch 9/30\n",
      "\u001b[1m204/204\u001b[0m \u001b[32m━━━━━━━━━━━━━━━━━━━━\u001b[0m\u001b[37m\u001b[0m \u001b[1m39s\u001b[0m 191ms/step - loss: 1.6466e-04 - val_loss: 1.6296e-05\n",
      "Epoch 10/30\n",
      "\u001b[1m204/204\u001b[0m \u001b[32m━━━━━━━━━━━━━━━━━━━━\u001b[0m\u001b[37m\u001b[0m \u001b[1m37s\u001b[0m 183ms/step - loss: 1.1265e-04 - val_loss: 1.5438e-05\n",
      "Epoch 11/30\n",
      "\u001b[1m204/204\u001b[0m \u001b[32m━━━━━━━━━━━━━━━━━━━━\u001b[0m\u001b[37m\u001b[0m \u001b[1m38s\u001b[0m 188ms/step - loss: 1.0564e-04 - val_loss: 1.4663e-05\n",
      "Epoch 12/30\n",
      "\u001b[1m204/204\u001b[0m \u001b[32m━━━━━━━━━━━━━━━━━━━━\u001b[0m\u001b[37m\u001b[0m \u001b[1m38s\u001b[0m 185ms/step - loss: 4.0680e-05 - val_loss: 2.9017e-05\n",
      "Epoch 13/30\n",
      "\u001b[1m204/204\u001b[0m \u001b[32m━━━━━━━━━━━━━━━━━━━━\u001b[0m\u001b[37m\u001b[0m \u001b[1m37s\u001b[0m 181ms/step - loss: 9.4112e-05 - val_loss: 1.2888e-05\n",
      "Epoch 14/30\n",
      "\u001b[1m204/204\u001b[0m \u001b[32m━━━━━━━━━━━━━━━━━━━━\u001b[0m\u001b[37m\u001b[0m \u001b[1m40s\u001b[0m 195ms/step - loss: 4.5354e-05 - val_loss: 1.4851e-05\n",
      "Epoch 15/30\n",
      "\u001b[1m204/204\u001b[0m \u001b[32m━━━━━━━━━━━━━━━━━━━━\u001b[0m\u001b[37m\u001b[0m \u001b[1m37s\u001b[0m 184ms/step - loss: 6.2006e-05 - val_loss: 1.1850e-05\n",
      "Epoch 16/30\n",
      "\u001b[1m204/204\u001b[0m \u001b[32m━━━━━━━━━━━━━━━━━━━━\u001b[0m\u001b[37m\u001b[0m \u001b[1m38s\u001b[0m 188ms/step - loss: 3.8121e-05 - val_loss: 5.1527e-05\n",
      "Epoch 17/30\n",
      "\u001b[1m204/204\u001b[0m \u001b[32m━━━━━━━━━━━━━━━━━━━━\u001b[0m\u001b[37m\u001b[0m \u001b[1m39s\u001b[0m 192ms/step - loss: 8.7837e-05 - val_loss: 1.1208e-05\n",
      "Epoch 18/30\n",
      "\u001b[1m204/204\u001b[0m \u001b[32m━━━━━━━━━━━━━━━━━━━━\u001b[0m\u001b[37m\u001b[0m \u001b[1m38s\u001b[0m 187ms/step - loss: 7.8052e-05 - val_loss: 1.0819e-05\n",
      "Epoch 19/30\n",
      "\u001b[1m204/204\u001b[0m \u001b[32m━━━━━━━━━━━━━━━━━━━━\u001b[0m\u001b[37m\u001b[0m \u001b[1m39s\u001b[0m 191ms/step - loss: 5.9836e-05 - val_loss: 1.0508e-05\n",
      "Epoch 20/30\n",
      "\u001b[1m204/204\u001b[0m \u001b[32m━━━━━━━━━━━━━━━━━━━━\u001b[0m\u001b[37m\u001b[0m \u001b[1m42s\u001b[0m 197ms/step - loss: 1.7897e-04 - val_loss: 1.2436e-05\n",
      "Epoch 21/30\n",
      "\u001b[1m204/204\u001b[0m \u001b[32m━━━━━━━━━━━━━━━━━━━━\u001b[0m\u001b[37m\u001b[0m \u001b[1m39s\u001b[0m 193ms/step - loss: 4.9608e-05 - val_loss: 1.0169e-05\n",
      "Epoch 22/30\n",
      "\u001b[1m204/204\u001b[0m \u001b[32m━━━━━━━━━━━━━━━━━━━━\u001b[0m\u001b[37m\u001b[0m \u001b[1m38s\u001b[0m 185ms/step - loss: 4.9527e-05 - val_loss: 1.8134e-05\n",
      "Epoch 23/30\n",
      "\u001b[1m204/204\u001b[0m \u001b[32m━━━━━━━━━━━━━━━━━━━━\u001b[0m\u001b[37m\u001b[0m \u001b[1m38s\u001b[0m 187ms/step - loss: 4.6966e-05 - val_loss: 1.1098e-05\n",
      "Epoch 24/30\n",
      "\u001b[1m204/204\u001b[0m \u001b[32m━━━━━━━━━━━━━━━━━━━━\u001b[0m\u001b[37m\u001b[0m \u001b[1m40s\u001b[0m 180ms/step - loss: 3.1890e-05 - val_loss: 1.5872e-05\n",
      "Epoch 25/30\n",
      "\u001b[1m204/204\u001b[0m \u001b[32m━━━━━━━━━━━━━━━━━━━━\u001b[0m\u001b[37m\u001b[0m \u001b[1m38s\u001b[0m 186ms/step - loss: 4.4066e-05 - val_loss: 1.7028e-05\n",
      "Epoch 26/30\n",
      "\u001b[1m204/204\u001b[0m \u001b[32m━━━━━━━━━━━━━━━━━━━━\u001b[0m\u001b[37m\u001b[0m \u001b[1m38s\u001b[0m 188ms/step - loss: 9.8151e-05 - val_loss: 8.1441e-05\n",
      "Epoch 27/30\n",
      "\u001b[1m204/204\u001b[0m \u001b[32m━━━━━━━━━━━━━━━━━━━━\u001b[0m\u001b[37m\u001b[0m \u001b[1m38s\u001b[0m 187ms/step - loss: 8.7930e-05 - val_loss: 1.6218e-05\n",
      "Epoch 28/30\n",
      "\u001b[1m204/204\u001b[0m \u001b[32m━━━━━━━━━━━━━━━━━━━━\u001b[0m\u001b[37m\u001b[0m \u001b[1m40s\u001b[0m 195ms/step - loss: 3.6822e-05 - val_loss: 9.6842e-06\n",
      "Epoch 29/30\n",
      "\u001b[1m204/204\u001b[0m \u001b[32m━━━━━━━━━━━━━━━━━━━━\u001b[0m\u001b[37m\u001b[0m \u001b[1m40s\u001b[0m 198ms/step - loss: 2.8999e-05 - val_loss: 9.3807e-06\n",
      "Epoch 30/30\n",
      "\u001b[1m204/204\u001b[0m \u001b[32m━━━━━━━━━━━━━━━━━━━━\u001b[0m\u001b[37m\u001b[0m \u001b[1m41s\u001b[0m 200ms/step - loss: 1.0281e-04 - val_loss: 9.6549e-06\n"
     ]
    }
   ],
   "source": [
    "hist=model.fit(X_train,Y_train,validation_data=(X_test,Y_test),epochs=30,batch_size=64,verbose=1)"
   ]
  },
  {
   "cell_type": "code",
   "execution_count": 34,
   "metadata": {
    "colab": {
     "base_uri": "https://localhost:8080/",
     "height": 472
    },
    "id": "1bMWr_o6tdze",
    "outputId": "5b26b5ba-3c1b-409a-a372-97d567d24d90"
   },
   "outputs": [
    {
     "data": {
      "image/png": "[encoded data removed]",
      "text/plain": [
       "<Figure size 640x480 with 1 Axes>"
      ]
     },
     "metadata": {},
     "output_type": "display_data"
    }
   ],
   "source": [
    "plt.plot(hist.history['loss'])\n",
    "plt.title('Training model loss')\n",
    "plt.ylabel('loss')\n",
    "plt.xlabel('epoch')\n",
    "plt.legend(['train'],loc='upper left')\n",
    "plt.show()"
   ]
  },
  {
   "cell_type": "code",
   "execution_count": 35,
   "metadata": {
    "colab": {
     "base_uri": "https://localhost:8080/",
     "height": 36
    },
    "id": "_tps6ejrj3Sv",
    "outputId": "1dd5067a-f9c0-4ae2-ec01-832ba0d68d71"
   },
   "outputs": [
    {
     "data": {
      "text/plain": [
       "'2.17.0'"
      ]
     },
     "execution_count": 35,
     "metadata": {},
     "output_type": "execute_result"
    }
   ],
   "source": [
    "tf.__version__"
   ]
  },
  {
   "cell_type": "code",
   "execution_count": 36,
   "metadata": {
    "colab": {
     "base_uri": "https://localhost:8080/"
    },
    "id": "SxC_-zkFl_aP",
    "outputId": "7248289d-260a-45f6-e473-016ba330f939"
   },
   "outputs": [
    {
     "name": "stdout",
     "output_type": "stream",
     "text": [
      "\u001b[1m407/407\u001b[0m \u001b[32m━━━━━━━━━━━━━━━━━━━━\u001b[0m\u001b[37m\u001b[0m \u001b[1m16s\u001b[0m 37ms/step\n",
      "\u001b[1m218/218\u001b[0m \u001b[32m━━━━━━━━━━━━━━━━━━━━\u001b[0m\u001b[37m\u001b[0m \u001b[1m9s\u001b[0m 41ms/step\n"
     ]
    }
   ],
   "source": [
    "#lets do the prediction and check performance metrics\n",
    "train_predict=model.predict(X_train)\n",
    "test_predict=model.predict(X_test)"
   ]
  },
  {
   "cell_type": "code",
   "execution_count": 37,
   "metadata": {
    "id": "SzCgV_t0mTSr"
   },
   "outputs": [],
   "source": [
    "#Transformback to origin form\n",
    "train_predict=scaler.inverse_transform(train_predict)\n",
    "test_predict=scaler.inverse_transform(test_predict)\n"
   ]
  },
  {
   "cell_type": "code",
   "execution_count": 38,
   "metadata": {
    "colab": {
     "base_uri": "https://localhost:8080/"
    },
    "id": "7QEhJ13EmiWg",
    "outputId": "09f07557-5ff7-4a22-d5ff-f2c7bc8ac62f"
   },
   "outputs": [
    {
     "data": {
      "text/plain": [
       "220.0046083379576"
      ]
     },
     "execution_count": 38,
     "metadata": {},
     "output_type": "execute_result"
    }
   ],
   "source": [
    "# claculate the RMSE performance metrics\n",
    "import math\n",
    "from sklearn.metrics import mean_squared_error\n",
    "math.sqrt(mean_squared_error(Y_train,train_predict))"
   ]
  },
  {
   "cell_type": "code",
   "execution_count": 39,
   "metadata": {
    "colab": {
     "base_uri": "https://localhost:8080/"
    },
    "id": "yDQOy_t_mrQV",
    "outputId": "6c4e3c01-057d-4801-9cb4-7380ba255fba"
   },
   "outputs": [
    {
     "data": {
      "text/plain": [
       "206.96403088855078"
      ]
     },
     "execution_count": 39,
     "metadata": {},
     "output_type": "execute_result"
    }
   ],
   "source": [
    "# test data RMSe\n",
    "math.sqrt(mean_squared_error(Y_test,test_predict))"
   ]
  },
  {
   "cell_type": "code",
   "execution_count": 40,
   "metadata": {
    "colab": {
     "base_uri": "https://localhost:8080/",
     "height": 430
    },
    "id": "EzALk6kqmwZP",
    "outputId": "3c4d910f-525f-4897-f26a-1e20e9d2cfd4"
   },
   "outputs": [
    {
     "data": {
      "image/png": "[encoded data removed]",
      "text/plain": [
       "<Figure size 640x480 with 1 Axes>"
      ]
     },
     "metadata": {},
     "output_type": "display_data"
    }
   ],
   "source": [
    "#plotting\n",
    "#shift treain predictions for plotting\n",
    "look_back=100\n",
    "trainPredictPlot=np.empty_like(df1)\n",
    "trainPredictPlot[:,:]=np.nan\n",
    "trainPredictPlot[look_back:len(train_predict)+look_back,:]=train_predict\n",
    "#shift test predictions for plotting\n",
    "testPredictPlot=np.empty_like(df1)\n",
    "testPredictPlot[:,:]=np.nan\n",
    "testPredictPlot[len(train_predict)+(look_back*2)+1:len(df1)-1,:]=test_predict\n",
    "#plot baseline and predictions\n",
    "plt.plot(scaler.inverse_transform(df1))\n",
    "plt.plot(trainPredictPlot)\n",
    "plt.plot(testPredictPlot)\n",
    "plt.show()\n"
   ]
  },
  {
   "cell_type": "code",
   "execution_count": 41,
   "metadata": {
    "colab": {
     "base_uri": "https://localhost:8080/"
    },
    "id": "mBp81bplnHGn",
    "outputId": "d914193d-867c-4d25-96ee-1b47687e8090"
   },
   "outputs": [
    {
     "data": {
      "text/plain": [
       "7056"
      ]
     },
     "execution_count": 41,
     "metadata": {},
     "output_type": "execute_result"
    }
   ],
   "source": [
    "len(test_data)"
   ]
  },
  {
   "cell_type": "code",
   "execution_count": 42,
   "metadata": {
    "colab": {
     "base_uri": "https://localhost:8080/"
    },
    "id": "w3jOWV80oKtl",
    "outputId": "b5b5dd71-f031-455e-9493-997f04fdbd1b"
   },
   "outputs": [
    {
     "data": {
      "text/plain": [
       "(1, 4145)"
      ]
     },
     "execution_count": 42,
     "metadata": {},
     "output_type": "execute_result"
    }
   ],
   "source": [
    "X_input=test_data[2911:].reshape(1,-1)\n",
    "X_input.shape"
   ]
  },
  {
   "cell_type": "code",
   "execution_count": 43,
   "metadata": {
    "colab": {
     "base_uri": "https://localhost:8080/"
    },
    "id": "EZi58xvMoSay",
    "outputId": "f488aed0-9cf0-41ee-e02e-a98dd29a8371"
   },
   "outputs": [
    {
     "data": {
      "text/plain": [
       "(1, 4145)"
      ]
     },
     "execution_count": 43,
     "metadata": {},
     "output_type": "execute_result"
    }
   ],
   "source": [
    "X_input.shape"
   ]
  },
  {
   "cell_type": "code",
   "execution_count": 44,
   "metadata": {
    "id": "jnutUQ_xohaM"
   },
   "outputs": [],
   "source": [
    "temp_input=list(X_input)\n",
    "temp_input=temp_input[0].tolist()"
   ]
  },
  {
   "cell_type": "code",
   "execution_count": 45,
   "metadata": {
    "colab": {
     "base_uri": "https://localhost:8080/"
    },
    "id": "IKiIVhOLowHZ",
    "outputId": "f39fbbe3-2ce1-4dbd-a5a3-f53d515e4097"
   },
   "outputs": [
    {
     "data": {
      "text/plain": [
       "[0.1719344958887481,\n",
       " 0.17214143811047977,\n",
       " 0.17194139396280583,\n",
       " 0.17303818773798363,\n",
       " 0.17455576403068274,\n",
       " 0.17395563158766092,\n",
       " 0.17421086032779676,\n",
       " 0.17317614921913815,\n",
       " 0.1729002262568291,\n",
       " 0.17162408255615058,\n",
       " 0.16958915070912206,\n",
       " 0.1705548810772035,\n",
       " 0.17200347662932525,\n",
       " 0.17186551514817094,\n",
       " 0.1702099773743173,\n",
       " 0.16983058330114242,\n",
       " 0.17027895811489446,\n",
       " 0.17086529440980103,\n",
       " 0.17048590033662614,\n",
       " 0.16931322774681323,\n",
       " 0.17027895811489446,\n",
       " 0.16945118922796754,\n",
       " 0.16883036256277273,\n",
       " 0.16835439545278974,\n",
       " 0.168499255008002,\n",
       " 0.1673886650847085,\n",
       " 0.16558826775564284,\n",
       " 0.16738176701065077,\n",
       " 0.1690373047845044,\n",
       " 0.1702099773743173,\n",
       " 0.16910628552508156,\n",
       " 0.16807157441642295,\n",
       " 0.16726449975166946,\n",
       " 0.16862342034104105,\n",
       " 0.1705548810772035,\n",
       " 0.17200347662932525,\n",
       " 0.17255532255394312,\n",
       " 0.1730312896639259,\n",
       " 0.1722793995916343,\n",
       " 0.17267948788698217,\n",
       " 0.17352105292202435,\n",
       " 0.17369350477346734,\n",
       " 0.1737969758843334,\n",
       " 0.17269328403509743,\n",
       " 0.17414187958721938,\n",
       " 0.1746247447712599,\n",
       " 0.17455576403068274,\n",
       " 0.17503862921472324,\n",
       " 0.176142321063959,\n",
       " 0.1775219358755038,\n",
       " 0.17841868550300766,\n",
       " 0.17828072402185313,\n",
       " 0.1775219358755038,\n",
       " 0.1778323492081011,\n",
       " 0.179308537056454,\n",
       " 0.1798672810551296,\n",
       " 0.18041912697974727,\n",
       " 0.1800397329065726,\n",
       " 0.1780048010595443,\n",
       " 0.17724601291319475,\n",
       " 0.17569394625020696,\n",
       " 0.17641824402626805,\n",
       " 0.17765989735665833,\n",
       " 0.17900502179791422,\n",
       " 0.17814276254069883,\n",
       " 0.17634926328569067,\n",
       " 0.1760043595828047,\n",
       " 0.17593537884222754,\n",
       " 0.17690110921030855,\n",
       " 0.17593537884222754,\n",
       " 0.1783497047624305,\n",
       " 0.1768321284697314,\n",
       " 0.17717703217261738,\n",
       " 0.17745295513492665,\n",
       " 0.17617681143424768,\n",
       " 0.17634926328569067,\n",
       " 0.17559047513934134,\n",
       " 0.17545251365818681,\n",
       " 0.1755214943987642,\n",
       " 0.1760043595828047,\n",
       " 0.17572843662049586,\n",
       " 0.17572843662049586,\n",
       " 0.17579741736107302,\n",
       " 0.17590088847193863,\n",
       " 0.17586639810165017,\n",
       " 0.17576292699078433,\n",
       " 0.17579741736107302,\n",
       " 0.17572843662049586,\n",
       " 0.17621130180453637,\n",
       " 0.17538353291760944,\n",
       " 0.1764872247668452,\n",
       " 0.17655620550742235,\n",
       " 0.1756594558799185,\n",
       " 0.176142321063959,\n",
       " 0.176142321063959,\n",
       " 0.17559047513934134,\n",
       " 0.17593537884222754,\n",
       " 0.1749696484741461,\n",
       " 0.17586639810165017,\n",
       " 0.1755214943987642,\n",
       " 0.1756594558799185,\n",
       " 0.1756594558799185,\n",
       " 0.17503862921472324,\n",
       " 0.17455576403068274,\n",
       " 0.17503862921472324,\n",
       " 0.17545251365818681,\n",
       " 0.17517659069587777,\n",
       " 0.1753145521770323,\n",
       " 0.17521108106616645,\n",
       " 0.1748385850670493,\n",
       " 0.17452127366039427,\n",
       " 0.17421086032779676,\n",
       " 0.17448678329010558,\n",
       " 0.17448678329010558,\n",
       " 0.17345897025550494,\n",
       " 0.1747213178080682,\n",
       " 0.1735900336626015,\n",
       " 0.17300369736769516,\n",
       " 0.1726863859610399,\n",
       " 0.17221041885105692,\n",
       " 0.1729002262568291,\n",
       " 0.17317614921913815,\n",
       " 0.1729002262568291,\n",
       " 0.17352105292202435,\n",
       " 0.1737969758843334,\n",
       " 0.17396942773577617,\n",
       " 0.17628028254511352,\n",
       " 0.17507311958501215,\n",
       " 0.17897053142762553,\n",
       " 0.17731499365377212,\n",
       " 0.17717703217261738,\n",
       " 0.17662518624799972,\n",
       " 0.1771977263947908,\n",
       " 0.17676314772915402,\n",
       " 0.17634926328569067,\n",
       " 0.1769700899508857,\n",
       " 0.17655620550742235,\n",
       " 0.17621130180453637,\n",
       " 0.17672865735886556,\n",
       " 0.17672865735886556,\n",
       " 0.17634926328569067,\n",
       " 0.17628028254511352,\n",
       " 0.17634926328569067,\n",
       " 0.17634926328569067,\n",
       " 0.17634926328569067,\n",
       " 0.17590088847193863,\n",
       " 0.1755214943987642,\n",
       " 0.1755214943987642,\n",
       " 0.17572843662049586,\n",
       " 0.17559047513934134,\n",
       " 0.17559047513934134,\n",
       " 0.17572843662049586,\n",
       " 0.17586639810165017,\n",
       " 0.176142321063959,\n",
       " 0.17559047513934134,\n",
       " 0.17579741736107302,\n",
       " 0.17586639810165017,\n",
       " 0.1756594558799185,\n",
       " 0.17586639810165017,\n",
       " 0.1755214943987642,\n",
       " 0.17524557143645492,\n",
       " 0.17455576403068274,\n",
       " 0.1739349373654877,\n",
       " 0.17365901440317888,\n",
       " 0.17365901440317888,\n",
       " 0.17338309144086983,\n",
       " 0.17269328403509743,\n",
       " 0.17221041885105692,\n",
       " 0.17255532255394312,\n",
       " 0.1737969758843334,\n",
       " 0.17338309144086983,\n",
       " 0.17255532255394312,\n",
       " 0.17221041885105692,\n",
       " 0.17207245736990262,\n",
       " 0.1717275536670162,\n",
       " 0.1724173610727886,\n",
       " 0.17234838033221145,\n",
       " 0.1724173610727886,\n",
       " 0.17345207218144698,\n",
       " 0.17221041885105692,\n",
       " 0.17220352077699919,\n",
       " 0.1724173610727886,\n",
       " 0.17207245736990262,\n",
       " 0.17186551514817094,\n",
       " 0.17296920699740648,\n",
       " 0.17434882180895106,\n",
       " 0.1737969758843334,\n",
       " 0.17345207218144698,\n",
       " 0.17414187958721938,\n",
       " 0.17352105292202435,\n",
       " 0.17421086032779676,\n",
       " 0.17448678329010558,\n",
       " 0.17352105292202435,\n",
       " 0.17231388996192276,\n",
       " 0.17207245736990262,\n",
       " 0.17207245736990262,\n",
       " 0.1729002262568291,\n",
       " 0.1729002262568291,\n",
       " 0.1729002262568291,\n",
       " 0.17310716847856078,\n",
       " 0.1737969758843334,\n",
       " 0.17345207218144698,\n",
       " 0.17369350477346734,\n",
       " 0.17317614921913815,\n",
       " 0.17317614921913815,\n",
       " 0.1729002262568291,\n",
       " 0.17372799514375603,\n",
       " 0.17296920699740648,\n",
       " 0.17355554329231282,\n",
       " 0.17386595662491056,\n",
       " 0.17396942773577617,\n",
       " 0.1737969758843334,\n",
       " 0.17400391810606508,\n",
       " 0.17396942773577617,\n",
       " 0.17386595662491056,\n",
       " 0.1737969758843334,\n",
       " 0.1737969758843334,\n",
       " 0.17386595662491056,\n",
       " 0.17403840847635355,\n",
       " 0.17407289884664223,\n",
       " 0.17396942773577617,\n",
       " 0.17421086032779676,\n",
       " 0.1739349373654877,\n",
       " 0.17421086032779676,\n",
       " 0.17434882180895106,\n",
       " 0.17407289884664223,\n",
       " 0.1741073892169307,\n",
       " 0.1741073892169307,\n",
       " 0.17448678329010558,\n",
       " 0.17434882180895106,\n",
       " 0.1739349373654877,\n",
       " 0.17421086032779676,\n",
       " 0.17421086032779676,\n",
       " 0.17483168699299156,\n",
       " 0.1746247447712599,\n",
       " 0.17468682743777952,\n",
       " 0.1747971966227031,\n",
       " 0.17486617736328047,\n",
       " 0.17448678329010558,\n",
       " 0.17414187958721938,\n",
       " 0.17490066773356894,\n",
       " 0.17448678329010558,\n",
       " 0.17472821588212595,\n",
       " 0.17455576403068274,\n",
       " 0.1751076099553006,\n",
       " 0.17407289884664223,\n",
       " 0.17469372551183726,\n",
       " 0.17503862921472324,\n",
       " 0.17483168699299156,\n",
       " 0.17448678329010558,\n",
       " 0.17448678329010558,\n",
       " 0.17414187958721938,\n",
       " 0.1744178025495282,\n",
       " 0.1744178025495282,\n",
       " 0.17365901440317888,\n",
       " 0.17303818773798363,\n",
       " 0.1729002262568291,\n",
       " 0.17303818773798363,\n",
       " 0.1724173610727886,\n",
       " 0.17152061144528452,\n",
       " 0.17145163070470737,\n",
       " 0.17158959218586167,\n",
       " 0.17145163070470737,\n",
       " 0.1724173610727886,\n",
       " 0.17234838033221145,\n",
       " 0.17221041885105692,\n",
       " 0.17234838033221145,\n",
       " 0.1724173610727886,\n",
       " 0.1717275536670162,\n",
       " 0.17158959218586167,\n",
       " 0.17152061144528452,\n",
       " 0.1714171403344189,\n",
       " 0.1705548810772035,\n",
       " 0.17014099663374016,\n",
       " 0.17027895811489446,\n",
       " 0.17034793885547184,\n",
       " 0.16983058330114242,\n",
       " 0.17027895811489446,\n",
       " 0.16993405441200826,\n",
       " 0.1702099773743173,\n",
       " 0.17152061144528452,\n",
       " 0.17034793885547184,\n",
       " 0.1712446884829757,\n",
       " 0.1712446884829757,\n",
       " 0.17138264996413,\n",
       " 0.1717275536670162,\n",
       " 0.17127917885326438,\n",
       " 0.17158959218586167,\n",
       " 0.17127917885326438,\n",
       " 0.17117570774239832,\n",
       " 0.17131366922355284,\n",
       " 0.17048590033662614,\n",
       " 0.1705548810772035,\n",
       " 0.17083080403951234,\n",
       " 0.1705548810772035,\n",
       " 0.17069284255835782,\n",
       " 0.17152061144528452,\n",
       " 0.1714171403344189,\n",
       " 0.17145163070470737,\n",
       " 0.17165857292643905,\n",
       " 0.17165857292643905,\n",
       " 0.17117570774239832,\n",
       " 0.17103774626124402,\n",
       " 0.1707618232989352,\n",
       " 0.17117570774239832,\n",
       " 0.16883036256277273,\n",
       " 0.17027895811489446,\n",
       " 0.1712446884829757,\n",
       " 0.17110672700182117,\n",
       " 0.16883036256277273,\n",
       " 0.16896832404392703,\n",
       " 0.1700720158931628,\n",
       " 0.1696581314496992,\n",
       " 0.16779565145411413,\n",
       " 0.1668299210860329,\n",
       " 0.16745074775122792,\n",
       " 0.16620909442083787,\n",
       " 0.16689890182661027,\n",
       " 0.1668299210860329,\n",
       " 0.16758870923238245,\n",
       " 0.16607113293968334,\n",
       " 0.1657952099773743,\n",
       " 0.16558826775564284,\n",
       " 0.16586419071795167,\n",
       " 0.16676094034545574,\n",
       " 0.16676094034545574,\n",
       " 0.16807157441642295,\n",
       " 0.16779565145411413,\n",
       " 0.1686924010816182,\n",
       " 0.16862342034104105,\n",
       " 0.16931322774681323,\n",
       " 0.1691752662656587,\n",
       " 0.16807157441642295,\n",
       " 0.16779565145411413,\n",
       " 0.16703686330776457,\n",
       " 0.1676576899729596,\n",
       " 0.16793361293526843,\n",
       " 0.16779565145411413,\n",
       " 0.16793361293526843,\n",
       " 0.16786463219469128,\n",
       " 0.1676576899729596,\n",
       " 0.16848545885988653,\n",
       " 0.16793361293526843,\n",
       " 0.16779565145411413,\n",
       " 0.1671748247889191,\n",
       " 0.16751972849180508,\n",
       " 0.16696788256718742,\n",
       " 0.16710584404834194,\n",
       " 0.16696788256718742,\n",
       " 0.16703686330776457,\n",
       " 0.16793361293526843,\n",
       " 0.16745074775122792,\n",
       " 0.16862342034104105,\n",
       " 0.16738176701065077,\n",
       " 0.16814055515700033,\n",
       " 0.16738176701065077,\n",
       " 0.16751972849180508,\n",
       " 0.1676576899729596,\n",
       " 0.1676576899729596,\n",
       " 0.16786463219469128,\n",
       " 0.16758870923238245,\n",
       " 0.16827851663815485,\n",
       " 0.16889934330334988,\n",
       " 0.1696581314496992,\n",
       " 0.1702099773743173,\n",
       " 0.17014099663374016,\n",
       " 0.170416919596049,\n",
       " 0.17034793885547184,\n",
       " 0.1702099773743173,\n",
       " 0.1695201699685449,\n",
       " 0.16883036256277273,\n",
       " 0.16841647811930938,\n",
       " 0.16814055515700033,\n",
       " 0.16772667071353675,\n",
       " 0.16883036256277273,\n",
       " 0.16896832404392703,\n",
       " 0.16827851663815485,\n",
       " 0.16827851663815485,\n",
       " 0.16814055515700033,\n",
       " 0.16827851663815485,\n",
       " 0.16862342034104105,\n",
       " 0.16862342034104105,\n",
       " 0.1686924010816182,\n",
       " 0.16889934330334988,\n",
       " 0.16827851663815485,\n",
       " 0.16841647811930938,\n",
       " 0.1691752662656587,\n",
       " 0.16910628552508156,\n",
       " 0.16924424700623586,\n",
       " 0.1700720158931628,\n",
       " 0.16979609293085374,\n",
       " 0.16938220848739038,\n",
       " 0.17034793885547184,\n",
       " 0.16979609293085374,\n",
       " 0.17034793885547184,\n",
       " 0.17062386181778066,\n",
       " 0.17000303515258564,\n",
       " 0.16979609293085374,\n",
       " 0.16958915070912206,\n",
       " 0.16958915070912206,\n",
       " 0.16993405441200826,\n",
       " 0.16993405441200826,\n",
       " 0.16993405441200826,\n",
       " 0.16993405441200826,\n",
       " 0.1698650736714311,\n",
       " 0.1700720158931628,\n",
       " 0.17000303515258564,\n",
       " 0.16993405441200826,\n",
       " 0.1700720158931628,\n",
       " 0.17048590033662614,\n",
       " 0.17000303515258564,\n",
       " 0.16993405441200826,\n",
       " 0.17000303515258564,\n",
       " 0.17000303515258564,\n",
       " 0.16945118922796754,\n",
       " 0.1702099773743173,\n",
       " 0.17014099663374016,\n",
       " 0.17027895811489446,\n",
       " 0.17131366922355284,\n",
       " 0.17138264996413,\n",
       " 0.1712446884829757,\n",
       " 0.17158959218586167,\n",
       " 0.17152061144528452,\n",
       " 0.17110672700182117,\n",
       " 0.17158959218586167,\n",
       " 0.17179653440759357,\n",
       " 0.17234838033221145,\n",
       " 0.1722793995916343,\n",
       " 0.1724173610727886,\n",
       " 0.17269328403509743,\n",
       " 0.1727622647756748,\n",
       " 0.17269328403509743,\n",
       " 0.17352105292202435,\n",
       " 0.17338309144086983,\n",
       " 0.17317614921913815,\n",
       " 0.17352105292202435,\n",
       " 0.17469372551183726,\n",
       " 0.1751076099553006,\n",
       " 0.17434882180895106,\n",
       " 0.17421086032779676,\n",
       " 0.1744178025495282,\n",
       " 0.17448678329010558,\n",
       " 0.17317614921913815,\n",
       " 0.17283124551625195,\n",
       " 0.1732451299597153,\n",
       " 0.17407289884664223,\n",
       " 0.17448678329010558,\n",
       " 0.17421086032779676,\n",
       " 0.17455576403068274,\n",
       " 0.1744178025495282,\n",
       " 0.17448678329010558,\n",
       " 0.17434882180895106,\n",
       " 0.17407289884664223,\n",
       " 0.17400391810606508,\n",
       " 0.17400391810606508,\n",
       " 0.17421086032779676,\n",
       " 0.17345207218144698,\n",
       " 0.17248634181336597,\n",
       " 0.17310716847856078,\n",
       " 0.17365901440317888,\n",
       " 0.17303818773798363,\n",
       " 0.17255532255394312,\n",
       " 0.17317614921913815,\n",
       " 0.17310716847856078,\n",
       " 0.17262430329452028,\n",
       " 0.1729002262568291,\n",
       " 0.17269328403509743,\n",
       " 0.17310716847856078,\n",
       " 0.1732451299597153,\n",
       " 0.17345207218144698,\n",
       " 0.1737969758843334,\n",
       " 0.17400391810606508,\n",
       " 0.17448678329010558,\n",
       " 0.17407289884664223,\n",
       " 0.1744178025495282,\n",
       " 0.17414187958721938,\n",
       " 0.17414187958721938,\n",
       " 0.17407289884664223,\n",
       " 0.17386595662491056,\n",
       " 0.17365901440317888,\n",
       " 0.16151840406158624,\n",
       " 0.16524336405275664,\n",
       " 0.16676094034545574,\n",
       " 0.16738176701065077,\n",
       " 0.16896832404392703,\n",
       " 0.16862342034104105,\n",
       " 0.16938220848739038,\n",
       " 0.1698650736714311,\n",
       " 0.17179653440759357,\n",
       " 0.1727622647756748,\n",
       " 0.1717275536670162,\n",
       " 0.1717275536670162,\n",
       " 0.17138264996413,\n",
       " 0.17283124551625195,\n",
       " 0.17296920699740648,\n",
       " 0.17131366922355284,\n",
       " 0.17062386181778066,\n",
       " 0.17103774626124402,\n",
       " 0.17152061144528452,\n",
       " 0.17096876552066664,\n",
       " 0.1690373047845044,\n",
       " 0.16958915070912206,\n",
       " 0.1698650736714311,\n",
       " 0.17096876552066664,\n",
       " 0.1707618232989352,\n",
       " 0.17034793885547184,\n",
       " 0.17034793885547184,\n",
       " 0.170416919596049,\n",
       " 0.17152061144528452,\n",
       " 0.17138264996413,\n",
       " 0.17103774626124402,\n",
       " 0.17062386181778066,\n",
       " 0.1708997847800895,\n",
       " 0.17158959218586167,\n",
       " 0.17117570774239832,\n",
       " 0.17145163070470737,\n",
       " 0.1708997847800895,\n",
       " 0.17131366922355284,\n",
       " 0.1712446884829757,\n",
       " 0.1737969758843334,\n",
       " 0.17400391810606508,\n",
       " 0.17400391810606508,\n",
       " 0.17331411070029246,\n",
       " 0.17248634181336597,\n",
       " 0.17448678329010558,\n",
       " 0.17331411070029246,\n",
       " 0.17434882180895106,\n",
       " 0.1744178025495282,\n",
       " 0.1744178025495282,\n",
       " 0.1749696484741461,\n",
       " 0.17538353291760944,\n",
       " 0.17572843662049586,\n",
       " 0.17524557143645492,\n",
       " 0.1756594558799185,\n",
       " 0.17517659069587777,\n",
       " 0.1764872247668452,\n",
       " 0.17593537884222754,\n",
       " 0.17786683957838978,\n",
       " 0.1780048010595443,\n",
       " 0.1802121847580156,\n",
       " 0.1797293195739751,\n",
       " 0.17862562772473933,\n",
       " 0.17890155068704816,\n",
       " 0.17903951216820269,\n",
       " 0.17966033883339794,\n",
       " 0.1802121847580156,\n",
       " 0.18014320401743844,\n",
       " 0.18193670327244638,\n",
       " 0.1825575299376414,\n",
       " 0.1824195684564871,\n",
       " 0.18379918326803169,\n",
       " 0.1832473373434138,\n",
       " 0.18235058771590973,\n",
       " 0.18317835660283666,\n",
       " 0.18103305557088478,\n",
       " 0.18186772253186922,\n",
       " 0.1817297610507147,\n",
       " 0.1811158324595774,\n",
       " 0.1803846366094588,\n",
       " 0.17966033883339794,\n",
       " 0.17993626179570676,\n",
       " 0.18103995364494252,\n",
       " 0.1800742232768613,\n",
       " 0.18000524253628392,\n",
       " 0.17828072402185313,\n",
       " 0.17772887809723548,\n",
       " 0.17822553942939146,\n",
       " 0.1784876662435848,\n",
       " 0.1800742232768613,\n",
       " 0.18103995364494252,\n",
       " 0.18052259809061333,\n",
       " 0.18103995364494252,\n",
       " 0.18186772253186922,\n",
       " 0.18235058771590973,\n",
       " 0.1820746647536009,\n",
       " 0.1949740632415431,\n",
       " 0.18868991777495747,\n",
       " 0.17517659069587777,\n",
       " 0.18076403068263347,\n",
       " 0.17931543513051174,\n",
       " 0.17662518624799972,\n",
       " 0.17662518624799972,\n",
       " 0.17724601291319475,\n",
       " 0.18448899067380387,\n",
       " 0.18583411511505998,\n",
       " 0.18290243364052783,\n",
       " 0.18400612548976336,\n",
       " 0.18386816400860884,\n",
       " 0.18539263837536568,\n",
       " 0.18786904696208828,\n",
       " 0.18690331659400705,\n",
       " 0.1871792395563161,\n",
       " 0.18628248992881202,\n",
       " 0.185661663263617,\n",
       " 0.18600656696650297,\n",
       " 0.18297141438110498,\n",
       " 0.18138485734782872,\n",
       " 0.18221262623475543,\n",
       " 0.18148832845869434,\n",
       " 0.18248854919706425,\n",
       " 0.18283345289995045,\n",
       " 0.18166078031013755,\n",
       " 0.1836267314165887,\n",
       " 0.1839716351194749,\n",
       " 0.18538574030130794,\n",
       " 0.18621350918823465,\n",
       " 0.1849718558578446,\n",
       " 0.1850270404503065,\n",
       " 0.1864894321505437,\n",
       " 0.18773108548093376,\n",
       " 0.18738618177804778,\n",
       " 0.18642045140996655,\n",
       " 0.18524777882015364,\n",
       " 0.18366122178687716,\n",
       " 0.18455797141438124,\n",
       " 0.18621350918823465,\n",
       " 0.18510981733899912,\n",
       " 0.18455797141438124,\n",
       " 0.18522018652392247,\n",
       " 0.18304039512168213,\n",
       " 0.18331631808399118,\n",
       " 0.1841440869709179,\n",
       " 0.1837853871199162,\n",
       " 0.18290243364052783,\n",
       " 0.18379918326803169,\n",
       " 0.1848338943766903,\n",
       " 0.1848338943766903,\n",
       " 0.18524777882015364,\n",
       " 0.18442000993322671,\n",
       " 0.18517879807957627,\n",
       " 0.18517879807957627,\n",
       " 0.18535124993101926,\n",
       " 0.180901992163788,\n",
       " 0.17517659069587777,\n",
       " 0.17545251365818681,\n",
       " 0.17890155068704816,\n",
       " 0.17138264996413,\n",
       " 0.16896832404392703,\n",
       " 0.16641603664256954,\n",
       " 0.16503642183102496,\n",
       " 0.15827630925445635,\n",
       " 0.15655179074002556,\n",
       " 0.1598628662877326,\n",
       " 0.15944898184426926,\n",
       " 0.16026295458308049,\n",
       " 0.1616425693946253,\n",
       " 0.15458583963357442,\n",
       " 0.14889492853595288,\n",
       " 0.14710142928094494,\n",
       " 0.14516996854478248,\n",
       " 0.15063324319849913,\n",
       " 0.15272335963798933,\n",
       " 0.15395811489432165,\n",
       " 0.1506884277909608,\n",
       " 0.14813614038960354,\n",
       " 0.14275564262457952,\n",
       " 0.1451354781744938,\n",
       " 0.14151398929418924,\n",
       " 0.1419278737376526,\n",
       " 0.1398584515203356,\n",
       " 0.13806495226532767,\n",
       " 0.14041029744495348,\n",
       " 0.14096214336957136,\n",
       " 0.14330748854919717,\n",
       " 0.14254870040284784,\n",
       " 0.14565283372882298,\n",
       " 0.14744633298383092,\n",
       " 0.14565283372882298,\n",
       " 0.14472159373103044,\n",
       " 0.1476532752055626,\n",
       " 0.1469979581700791,\n",
       " 0.14303846366094608,\n",
       " 0.14016886485293334,\n",
       " 0.14247971966227047,\n",
       " 0.1417209315159209,\n",
       " 0.1389961922631202,\n",
       " 0.13337426190607604,\n",
       " 0.1353057226422385,\n",
       " 0.13381573864577012,\n",
       " 0.13703024115666929,\n",
       " 0.13551266486397018,\n",
       " 0.13560233982672054,\n",
       " 0.13599553004801068,\n",
       " 0.13758208708128716,\n",
       " 0.1386857789305227,\n",
       " 0.13882374041167722,\n",
       " 0.1361334915291652,\n",
       " 0.13395370012692465,\n",
       " 0.13744412560013264,\n",
       " 0.13674052204624476,\n",
       " 0.1346159152364661,\n",
       " 0.13033910932067783,\n",
       " 0.1325809833894378,\n",
       " 0.13254649301914911,\n",
       " 0.13531951879035398,\n",
       " 0.13732685834115133,\n",
       " 0.13358120412780772,\n",
       " 0.12944235969317375,\n",
       " 0.12709701451354793,\n",
       " 0.12502759229623095,\n",
       " 0.12633822636719838,\n",
       " 0.12426880414988162,\n",
       " 0.12516555377738547,\n",
       " 0.12454472711219045,\n",
       " 0.12737293747585676,\n",
       " 0.12974587495171352,\n",
       " 0.1295113404337509,\n",
       " 0.12895949450913324,\n",
       " 0.12744191821643414,\n",
       " 0.12826968710336084,\n",
       " 0.1282007063627837,\n",
       " 0.1278558026598975,\n",
       " 0.1313738204293362,\n",
       " 0.13151178191049073,\n",
       " 0.1334432426466532,\n",
       " 0.13454693449588895,\n",
       " 0.13247751227857196,\n",
       " 0.133098338943767,\n",
       " 0.13627145301031973,\n",
       " 0.13654737597262856,\n",
       " 0.13838226367198292,\n",
       " 0.13723718337840096,\n",
       " 0.1361334915291652,\n",
       " 0.13806495226532767,\n",
       " 0.13840985596821365,\n",
       " 0.1383960598200984,\n",
       " 0.13675431819436024,\n",
       " 0.1371682026378238,\n",
       " 0.1373061641189781,\n",
       " 0.13700954693449607,\n",
       " 0.13371916560896224,\n",
       " 0.13422962308923347,\n",
       " 0.1308909552452957,\n",
       " 0.13061503228298665,\n",
       " 0.13199464709453146,\n",
       " 0.1338847193863475,\n",
       " 0.13482285745819778,\n",
       " 0.13516776116108398,\n",
       " 0.1366163567132057,\n",
       " 0.13758208708128716,\n",
       " 0.1356506263451247,\n",
       " 0.1366508470834944,\n",
       " 0.13571960708570185,\n",
       " 0.1337881463495394,\n",
       " 0.13544368412339303,\n",
       " 0.13523674190166135,\n",
       " 0.13447795375531157,\n",
       " 0.13371916560896224,\n",
       " 0.13522294575354565,\n",
       " 0.13454693449588895,\n",
       " 0.13606451078858806,\n",
       " 0.1368232989349374,\n",
       " 0.13654737597262856,\n",
       " 0.13757518900722943,\n",
       " 0.13772004856244147,\n",
       " 0.13882374041167722,\n",
       " 0.13896170189283175,\n",
       " 0.13875475967109985,\n",
       " 0.13916864411456342,\n",
       " 0.13923762485514057,\n",
       " 0.13827189448705934,\n",
       " 0.13709922189724644,\n",
       " 0.1373061641189781,\n",
       " 0.13723718337840096,\n",
       " 0.1381477291540203,\n",
       " 0.13913415374427474,\n",
       " 0.13958252855802677,\n",
       " 0.139127255670217,\n",
       " 0.13854781744936817,\n",
       " 0.13847883670879102,\n",
       " 0.13823740411677088,\n",
       " 0.1387823519673308,\n",
       " 0.13820291374648197,\n",
       " 0.13816152530213577,\n",
       " 0.13654737597262856,\n",
       " 0.13758208708128716,\n",
       " 0.14018955907510633,\n",
       " 0.14076209922189742,\n",
       " 0.14103802218420625,\n",
       " 0.14213481595938426,\n",
       " 0.14303846366094608,\n",
       " 0.14475608410131913,\n",
       " 0.14537691076651416,\n",
       " 0.14606671817228634,\n",
       " 0.14502510898957022,\n",
       " 0.1444801611390103,\n",
       " 0.14413525743612388,\n",
       " 0.1424107389216931,\n",
       " 0.1417209315159209,\n",
       " 0.14196236410794127,\n",
       " 0.14227277744053857,\n",
       " 0.14278323492081024,\n",
       " 0.14316952706804287,\n",
       " 0.14268666188400214,\n",
       " 0.14215551018155748,\n",
       " 0.14151398929418924,\n",
       " 0.14085867225870552,\n",
       " 0.1421003255890958,\n",
       " 0.14086557033276326,\n",
       " 0.13958252855802677,\n",
       " 0.13930660559571795,\n",
       " 0.13665774515755214,\n",
       " 0.1347538767176204,\n",
       " 0.1347538767176204,\n",
       " 0.1342503173114069,\n",
       " 0.13514706693891076,\n",
       " 0.13330528116549867,\n",
       " 0.13130483968875883,\n",
       " 0.1249586115556538,\n",
       " 0.12482065007449927,\n",
       " 0.1244757463716133,\n",
       " 0.12551045748027168,\n",
       " 0.12606230340488955,\n",
       " 0.1269590530323934,\n",
       " 0.12606230340488955,\n",
       " 0.1254414767396943,\n",
       " 0.1244757463716133,\n",
       " 0.12571739970200335,\n",
       " 0.1256139285911375,\n",
       " 0.12585536118315765,\n",
       " 0.12558633629490656,\n",
       " 0.1246137078527676,\n",
       " 0.12506208266651964,\n",
       " 0.12406186192814972,\n",
       " 0.12502759229623095,\n",
       " 0.12482065007449927,\n",
       " 0.12420672148336198,\n",
       " 0.12261326637602799,\n",
       " 0.11814331438662329,\n",
       " 0.1153426963191877,\n",
       " 0.1166119419458087,\n",
       " 0.11778461453562183,\n",
       " 0.11881932564428044,\n",
       " 0.11798465868329577,\n",
       " 0.1171637878704268,\n",
       " 0.11874344682964533,\n",
       " 0.1197160752717843,\n",
       " 0.11944015230947524,\n",
       " 0.12023343082611349,\n",
       " 0.12282020859775966,\n",
       " 0.12212350311792952,\n",
       " 0.12206142045141011,\n",
       " 0.12233734341371916,\n",
       " 0.12240632415429631,\n",
       " 0.12244081452458477,\n",
       " 0.12150957452679223,\n",
       " 0.12206142045141011,\n",
       " 0.12262706252414346,\n",
       " 0.12295817007891419,\n",
       " 0.12364797748468637,\n",
       " 0.12457921748247891,\n",
       " 0.12679349925500816,\n",
       " 0.1276074719938196,\n",
       " 0.12564841896142598,\n",
       " 0.1255311517024449,\n",
       " 0.12240632415429631,\n",
       " 0.12389630815076447,\n",
       " 0.1243446829645165,\n",
       " 0.12378593896584089,\n",
       " 0.12564841896142598,\n",
       " 0.12500000000000022,\n",
       " 0.12764196236410807,\n",
       " 0.12709701451354793,\n",
       " 0.1265175762926991,\n",
       " 0.12692456266210494,\n",
       " 0.12702803377297078,\n",
       " 0.12771784117874296,\n",
       " 0.12537249599911715,\n",
       " 0.1276488604381658,\n",
       " 0.12721428177252925,\n",
       " 0.12582776888692693,\n",
       " 0.12661414932950743,\n",
       " 0.125475967109983,\n",
       " 0.1269935434026821,\n",
       " 0.12840764858451537,\n",
       " 0.1286835715468242,\n",
       " 0.12944235969317375,\n",
       " 0.1293733789525966,\n",
       " 0.1293733789525966,\n",
       " 0.12852491584349668,\n",
       " 0.12847662932509252,\n",
       " 0.1275108989570113,\n",
       " 0.12557943822084883,\n",
       " 0.1264761878483529,\n",
       " 0.12540698636940584,\n",
       " 0.12674521273660422,\n",
       " 0.12510347111086606,\n",
       " 0.12626924562662123,\n",
       " 0.12757987969758844,\n",
       " 0.12716599525412509,\n",
       " 0.12737293747585676,\n",
       " 0.1278558026598975,\n",
       " 0.1272832625131064,\n",
       " 0.12792478340047486,\n",
       " 0.1278558026598975,\n",
       " 0.12721428177252925,\n",
       " 0.12674521273660422,\n",
       " 0.12769714695656975,\n",
       " 0.12830417747364953,\n",
       " 0.12856630428784288,\n",
       " 0.1285456100656699,\n",
       " 0.1285456100656699,\n",
       " 0.1276488604381658,\n",
       " 0.12689007229181626,\n",
       " 0.12537249599911715,\n",
       " 0.12333756415208907,\n",
       " 0.12299266044920265,\n",
       " 0.12285469896804813,\n",
       " 0.12264085867225871,\n",
       " 0.12254428563545083,\n",
       " 0.12399288118757257,\n",
       " 0.12320650074499229,\n",
       " 0.12385491970641804,\n",
       " 0.12288918933833681,\n",
       " 0.12316511230064586,\n",
       " 0.12426880414988162,\n",
       " 0.12399288118757257,\n",
       " 0.12440676563103592,\n",
       " 0.12351691407758958,\n",
       " 0.12371695822526352,\n",
       " 0.12428949837205461,\n",
       " 0.12475856740797986,\n",
       " 0.1246137078527676,\n",
       " 0.12468268859334497,\n",
       " 0.12454472711219045,\n",
       " 0.12709701451354793,\n",
       " 0.1270694222173172,\n",
       " 0.12806274488162916,\n",
       " 0.1278971911042437,\n",
       " 0.12792478340047486,\n",
       " 0.12813862369626428,\n",
       " 0.12828348325147632,\n",
       " 0.12830417747364953,\n",
       " 0.12771784117874296,\n",
       " 0.12847662932509252,\n",
       " 0.12840764858451537,\n",
       " 0.12882153302797872,\n",
       " 0.12689007229181626,\n",
       " 0.12796617184482106,\n",
       " 0.12806274488162916,\n",
       " 0.12744191821643414,\n",
       " 0.1276488604381658,\n",
       " 0.12806274488162916,\n",
       " 0.1286835715468242,\n",
       " 0.12778682191932034,\n",
       " 0.12729016058716414,\n",
       " 0.1278213122896088,\n",
       " 0.12778682191932034,\n",
       " 0.12771784117874296,\n",
       " 0.12736603940179902,\n",
       " 0.12737293747585676,\n",
       " 0.1269590530323934,\n",
       " 0.1268210915512391,\n",
       " 0.12599332266431218,\n",
       " 0.12654516858893006,\n",
       " 0.12626924562662123,\n",
       " 0.1268210915512391,\n",
       " 0.12871116384305514,\n",
       " 0.12840764858451537,\n",
       " 0.12840764858451537,\n",
       " 0.12847662932509252,\n",
       " 0.12813172562220654,\n",
       " 0.1285456100656699,\n",
       " 0.12853181391755442,\n",
       " 0.12842144473263084,\n",
       " 0.12640720710777575,\n",
       " 0.12654516858893006,\n",
       " 0.1259795265161967,\n",
       " 0.12557943822084883,\n",
       " 0.12654516858893006,\n",
       " 0.12678660118095042,\n",
       " 0.12686247999558553,\n",
       " 0.12680729540312363,\n",
       " 0.12640720710777575,\n",
       " 0.1254414767396943,\n",
       " 0.12443435792726687,\n",
       " 0.12482065007449927,\n",
       " 0.1252690248882513,\n",
       " 0.12371695822526352,\n",
       " 0.12206142045141011,\n",
       " 0.12240632415429631,\n",
       " 0.12371695822526352,\n",
       " 0.12378593896584089,\n",
       " 0.12357899674410922,\n",
       " 0.1239239004469952,\n",
       " 0.12309613156006849,\n",
       " 0.12406186192814972,\n",
       " 0.12385491970641804,\n",
       " 0.12464130014899855,\n",
       " 0.12488273274101891,\n",
       " 0.12509657303680832,\n",
       " 0.1249586115556538,\n",
       " 0.12462750400088307,\n",
       " 0.1252483306660781,\n",
       " 0.12516555377738547,\n",
       " 0.12564841896142598,\n",
       " 0.12551045748027168,\n",
       " 0.12426880414988162,\n",
       " 0.12363418133657089,\n",
       " 0.1239239004469952,\n",
       " ...]"
      ]
     },
     "execution_count": 45,
     "metadata": {},
     "output_type": "execute_result"
    }
   ],
   "source": [
    "temp_input\n"
   ]
  },
  {
   "cell_type": "code",
   "execution_count": 46,
   "metadata": {
    "colab": {
     "base_uri": "https://localhost:8080/"
    },
    "id": "5vYLR5_ko1VL",
    "outputId": "b558b556-7f43-4279-cdab-8a0390fa8415"
   },
   "outputs": [
    {
     "name": "stdout",
     "output_type": "stream",
     "text": [
      "0 day input [0.17214144 0.17194139 0.17303819 ... 0.27588847 0.27595745 0.27519866]\n",
      "0 day output [[0.27829576]]\n",
      "1 day input [0.17194139 0.17303819 0.17455576 ... 0.27595745 0.27519866 0.27829576]\n",
      "1 day output [[0.27852896]]\n",
      "2 day input [0.17303819 0.17455576 0.17395563 ... 0.27519866 0.27829576 0.27852896]\n",
      "2 day output [[0.27901262]]\n",
      "3 day input [0.17455576 0.17395563 0.17421086 ... 0.27829576 0.27852896 0.27901262]\n",
      "3 day output [[0.27961588]]\n",
      "4 day input [0.17395563 0.17421086 0.17317615 ... 0.27852896 0.27901262 0.27961588]\n",
      "4 day output [[0.28025788]]\n",
      "5 day input [0.17421086 0.17317615 0.17290023 ... 0.27901262 0.27961588 0.28025788]\n",
      "5 day output [[0.2809012]]\n",
      "6 day input [0.17317615 0.17290023 0.17162408 ... 0.27961588 0.28025788 0.28090119]\n",
      "6 day output [[0.2815329]]\n",
      "7 day input [0.17290023 0.17162408 0.16958915 ... 0.28025788 0.28090119 0.28153291]\n",
      "7 day output [[0.28215045]]\n",
      "8 day input [0.17162408 0.16958915 0.17055488 ... 0.28090119 0.28153291 0.28215045]\n",
      "8 day output [[0.28275505]]\n",
      "9 day input [0.16958915 0.17055488 0.17200348 ... 0.28153291 0.28215045 0.28275505]\n",
      "9 day output [[0.2833489]]\n",
      "10 day input [0.17055488 0.17200348 0.17186552 ... 0.28215045 0.28275505 0.28334889]\n",
      "10 day output [[0.28393427]]\n",
      "11 day input [0.17200348 0.17186552 0.17020998 ... 0.28275505 0.28334889 0.28393427]\n",
      "11 day output [[0.28451318]]\n",
      "12 day input [0.17186552 0.17020998 0.16983058 ... 0.28334889 0.28393427 0.28451318]\n",
      "12 day output [[0.28508735]]\n",
      "13 day input [0.17020998 0.16983058 0.17027896 ... 0.28393427 0.28451318 0.28508735]\n",
      "13 day output [[0.28565854]]\n",
      "14 day input [0.16983058 0.17027896 0.17086529 ... 0.28451318 0.28508735 0.28565854]\n",
      "14 day output [[0.28622776]]\n",
      "15 day input [0.17027896 0.17086529 0.1704859  ... 0.28508735 0.28565854 0.28622776]\n",
      "15 day output [[0.28679624]]\n",
      "16 day input [0.17086529 0.1704859  0.16931323 ... 0.28565854 0.28622776 0.28679624]\n",
      "16 day output [[0.28736466]]\n",
      "17 day input [0.1704859  0.16931323 0.17027896 ... 0.28622776 0.28679624 0.28736466]\n",
      "17 day output [[0.2879337]]\n",
      "18 day input [0.16931323 0.17027896 0.16945119 ... 0.28679624 0.28736466 0.28793371]\n",
      "18 day output [[0.2885039]]\n",
      "19 day input [0.17027896 0.16945119 0.16883036 ... 0.28736466 0.28793371 0.28850389]\n",
      "19 day output [[0.2890753]]\n",
      "20 day input [0.16945119 0.16883036 0.1683544  ... 0.28793371 0.28850389 0.28907529]\n",
      "20 day output [[0.28964826]]\n",
      "21 day input [0.16883036 0.1683544  0.16849926 ... 0.28850389 0.28907529 0.28964826]\n",
      "21 day output [[0.29022297]]\n",
      "22 day input [0.1683544  0.16849926 0.16738867 ... 0.28907529 0.28964826 0.29022297]\n",
      "22 day output [[0.29079935]]\n",
      "23 day input [0.16849926 0.16738867 0.16558827 ... 0.28964826 0.29022297 0.29079935]\n",
      "23 day output [[0.2913775]]\n",
      "24 day input [0.16738867 0.16558827 0.16738177 ... 0.29022297 0.29079935 0.29137751]\n",
      "24 day output [[0.29195747]]\n",
      "25 day input [0.16558827 0.16738177 0.1690373  ... 0.29079935 0.29137751 0.29195747]\n",
      "25 day output [[0.29253918]]\n",
      "26 day input [0.16738177 0.1690373  0.17020998 ... 0.29137751 0.29195747 0.29253918]\n",
      "26 day output [[0.29312265]]\n",
      "27 day input [0.1690373  0.17020998 0.16910629 ... 0.29195747 0.29253918 0.29312265]\n",
      "27 day output [[0.2937079]]\n",
      "28 day input [0.17020998 0.16910629 0.16807157 ... 0.29253918 0.29312265 0.29370791]\n",
      "28 day output [[0.29429495]]\n",
      "29 day input [0.16910629 0.16807157 0.1672645  ... 0.29312265 0.29370791 0.29429495]\n",
      "29 day output [[0.29488373]]\n",
      "[0.29488373]\n",
      "4146\n",
      "[[0.27829575538635254], [0.27852895855903625], [0.27901262044906616], [0.2796158790588379], [0.2802578806877136], [0.2809011936187744], [0.2815329134464264], [0.2821504473686218], [0.282755047082901], [0.2833488881587982], [0.28393426537513733], [0.2845131754875183], [0.28508734703063965], [0.2856585383415222], [0.2862277626991272], [0.2867962419986725], [0.287364661693573], [0.28793370723724365], [0.28850388526916504], [0.2890752851963043], [0.28964826464653015], [0.29022297263145447], [0.2907993495464325], [0.2913775146007538], [0.29195746779441833], [0.29253917932510376], [0.29312264919281006], [0.2937079071998596], [0.29429495334625244], [0.29488372802734375], [0.29488372802734375]]\n"
     ]
    }
   ],
   "source": [
    "#demonstrating prediction for next 10 days\n",
    "from numpy import array\n",
    "lst_output=[]\n",
    "#n_steps=100\n",
    "n_steps = len(temp_input)-1\n",
    "i=0\n",
    "while(i<30):\n",
    "\n",
    "  if(len(temp_input)>100):\n",
    "    #print(temp_input)\n",
    "    X_input=np.array(temp_input[1:])\n",
    "    print(\"{} day input {}\".format(i,X_input))\n",
    "    X_input=X_input.reshape(1,-1)\n",
    "    X_input = X_input.reshape((1, n_steps, 1))\n",
    "    #print(X_input)\n",
    "    yhat = model.predict(X_input, verbose=0)\n",
    "    print(\"{} day output {}\".format(i,yhat))\n",
    "    temp_input.extend(yhat[0].tolist())\n",
    "    temp_input=temp_input[1:]\n",
    "    #print(temp_input)\n",
    "    lst_output.extend(yhat.tolist())\n",
    "    i=i+1\n",
    "else:\n",
    "    X_input = X_input.reshape((1, n_steps,1))\n",
    "    yhat = model.predict(X_input, verbose=0)\n",
    "    print(yhat[0])\n",
    "    temp_input.extend(yhat[0].tolist())\n",
    "    print(len(temp_input))\n",
    "    lst_output.extend(yhat.tolist())\n",
    "    i=i+1\n",
    "\n",
    "print(lst_output)\n",
    "\n"
   ]
  },
  {
   "cell_type": "code",
   "execution_count": 47,
   "metadata": {
    "id": "8RUr7lXlpvnO"
   },
   "outputs": [],
   "source": [
    "day_new=np.arange(1,101)\n",
    "day_pred=np.arange(101,132)\n"
   ]
  },
  {
   "cell_type": "code",
   "execution_count": 48,
   "metadata": {
    "colab": {
     "base_uri": "https://localhost:8080/"
    },
    "id": "MuCfuv3Yp6nb",
    "outputId": "48bbee99-fd3e-4691-8e6c-a143447887a0"
   },
   "outputs": [
    {
     "data": {
      "text/plain": [
       "20160"
      ]
     },
     "execution_count": 48,
     "metadata": {},
     "output_type": "execute_result"
    }
   ],
   "source": [
    "len(df1)"
   ]
  },
  {
   "cell_type": "code",
   "execution_count": 49,
   "metadata": {
    "colab": {
     "base_uri": "https://localhost:8080/",
     "height": 447
    },
    "id": "NJTi0CPTtLUR",
    "outputId": "c14aab99-6f78-4300-8249-2e7393937de3"
   },
   "outputs": [
    {
     "data": {
      "text/plain": [
       "[<matplotlib.lines.Line2D at 0x2500765e850>]"
      ]
     },
     "execution_count": 49,
     "metadata": {},
     "output_type": "execute_result"
    },
    {
     "data": {
      "image/png": "[encoded data removed]",
      "text/plain": [
       "<Figure size 640x480 with 1 Axes>"
      ]
     },
     "metadata": {},
     "output_type": "display_data"
    }
   ],
   "source": [
    "df3=df1.tolist()\n",
    "df3.extend(lst_output)\n",
    "plt.plot(df3[len(df1)-100:])"
   ]
  },
  {
   "cell_type": "code",
   "execution_count": 50,
   "metadata": {
    "colab": {
     "base_uri": "https://localhost:8080/",
     "height": 447
    },
    "id": "5PnWMxf1yQUu",
    "outputId": "455197f7-7b4d-45cb-a428-7d67e90dcb62"
   },
   "outputs": [
    {
     "data": {
      "text/plain": [
       "[<matplotlib.lines.Line2D at 0x25011184d10>]"
      ]
     },
     "execution_count": 50,
     "metadata": {},
     "output_type": "execute_result"
    },
    {
     "data": {
      "image/png": "[encoded data removed]",
      "text/plain": [
       "<Figure size 640x480 with 1 Axes>"
      ]
     },
     "metadata": {},
     "output_type": "display_data"
    }
   ],
   "source": [
    "plt.plot(day_new,scaler.inverse_transform(df1[len(df1)-100:]))\n",
    "plt.plot(day_pred,scaler.inverse_transform(lst_output).reshape(-1))"
   ]
  },
  {
   "cell_type": "code",
   "execution_count": 51,
   "metadata": {
    "id": "0xa1-RykyTMC"
   },
   "outputs": [],
   "source": [
    "import pickle\n",
    "pickle.dump(model,open('tesla_model.pkl','wb'))\n",
    "pickle.dump(scaler,open('scaler.pkl','wb'))"
   ]
  }
 ],
 "metadata": {
  "colab": {
   "provenance": []
  },
  "kernelspec": {
   "display_name": "Python 3 (ipykernel)",
   "language": "python",
   "name": "python3"
  },
  "language_info": {
   "codemirror_mode": {
    "name": "ipython",
    "version": 3
   },
   "file_extension": ".py",
   "mimetype": "text/x-python",
   "name": "python",
   "nbconvert_exporter": "python",
   "pygments_lexer": "ipython3",
   "version": "3.11.9"
  }
 },
 "nbformat": 4,
 "nbformat_minor": 4
}
